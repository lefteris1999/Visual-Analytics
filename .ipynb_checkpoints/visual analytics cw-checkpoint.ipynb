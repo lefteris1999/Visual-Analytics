{
 "cells": [
  {
   "cell_type": "code",
   "execution_count": 1,
   "id": "703f91dd",
   "metadata": {},
   "outputs": [],
   "source": [
    "import pandas as pd\n",
    "import numpy as np\n",
    "import seaborn as sns\n",
    "import matplotlib.pyplot as plt\n",
    "import matplotlib.mlab as mlab\n",
    "from matplotlib.colors import ListedColormap"
   ]
  },
  {
   "cell_type": "code",
   "execution_count": 2,
   "id": "45fae099",
   "metadata": {},
   "outputs": [],
   "source": [
    "df = pd.read_csv(\"mxmh_survey_results.csv\")"
   ]
  },
  {
   "cell_type": "code",
   "execution_count": 3,
   "id": "738dec10",
   "metadata": {},
   "outputs": [
    {
     "data": {
      "text/html": [
       "<div>\n",
       "<style scoped>\n",
       "    .dataframe tbody tr th:only-of-type {\n",
       "        vertical-align: middle;\n",
       "    }\n",
       "\n",
       "    .dataframe tbody tr th {\n",
       "        vertical-align: top;\n",
       "    }\n",
       "\n",
       "    .dataframe thead th {\n",
       "        text-align: right;\n",
       "    }\n",
       "</style>\n",
       "<table border=\"1\" class=\"dataframe\">\n",
       "  <thead>\n",
       "    <tr style=\"text-align: right;\">\n",
       "      <th></th>\n",
       "      <th>Age</th>\n",
       "      <th>Hours per day</th>\n",
       "      <th>BPM</th>\n",
       "      <th>Anxiety</th>\n",
       "      <th>Depression</th>\n",
       "      <th>Insomnia</th>\n",
       "      <th>OCD</th>\n",
       "    </tr>\n",
       "  </thead>\n",
       "  <tbody>\n",
       "    <tr>\n",
       "      <th>count</th>\n",
       "      <td>735.000000</td>\n",
       "      <td>736.000000</td>\n",
       "      <td>6.290000e+02</td>\n",
       "      <td>736.000000</td>\n",
       "      <td>736.000000</td>\n",
       "      <td>736.000000</td>\n",
       "      <td>736.000000</td>\n",
       "    </tr>\n",
       "    <tr>\n",
       "      <th>mean</th>\n",
       "      <td>25.206803</td>\n",
       "      <td>3.572758</td>\n",
       "      <td>1.589948e+06</td>\n",
       "      <td>5.837636</td>\n",
       "      <td>4.796196</td>\n",
       "      <td>3.738451</td>\n",
       "      <td>2.637228</td>\n",
       "    </tr>\n",
       "    <tr>\n",
       "      <th>std</th>\n",
       "      <td>12.054970</td>\n",
       "      <td>3.028199</td>\n",
       "      <td>3.987261e+07</td>\n",
       "      <td>2.793054</td>\n",
       "      <td>3.028870</td>\n",
       "      <td>3.088689</td>\n",
       "      <td>2.842017</td>\n",
       "    </tr>\n",
       "    <tr>\n",
       "      <th>min</th>\n",
       "      <td>10.000000</td>\n",
       "      <td>0.000000</td>\n",
       "      <td>0.000000e+00</td>\n",
       "      <td>0.000000</td>\n",
       "      <td>0.000000</td>\n",
       "      <td>0.000000</td>\n",
       "      <td>0.000000</td>\n",
       "    </tr>\n",
       "    <tr>\n",
       "      <th>25%</th>\n",
       "      <td>18.000000</td>\n",
       "      <td>2.000000</td>\n",
       "      <td>1.000000e+02</td>\n",
       "      <td>4.000000</td>\n",
       "      <td>2.000000</td>\n",
       "      <td>1.000000</td>\n",
       "      <td>0.000000</td>\n",
       "    </tr>\n",
       "    <tr>\n",
       "      <th>50%</th>\n",
       "      <td>21.000000</td>\n",
       "      <td>3.000000</td>\n",
       "      <td>1.200000e+02</td>\n",
       "      <td>6.000000</td>\n",
       "      <td>5.000000</td>\n",
       "      <td>3.000000</td>\n",
       "      <td>2.000000</td>\n",
       "    </tr>\n",
       "    <tr>\n",
       "      <th>75%</th>\n",
       "      <td>28.000000</td>\n",
       "      <td>5.000000</td>\n",
       "      <td>1.440000e+02</td>\n",
       "      <td>8.000000</td>\n",
       "      <td>7.000000</td>\n",
       "      <td>6.000000</td>\n",
       "      <td>5.000000</td>\n",
       "    </tr>\n",
       "    <tr>\n",
       "      <th>max</th>\n",
       "      <td>89.000000</td>\n",
       "      <td>24.000000</td>\n",
       "      <td>1.000000e+09</td>\n",
       "      <td>10.000000</td>\n",
       "      <td>10.000000</td>\n",
       "      <td>10.000000</td>\n",
       "      <td>10.000000</td>\n",
       "    </tr>\n",
       "  </tbody>\n",
       "</table>\n",
       "</div>"
      ],
      "text/plain": [
       "              Age  Hours per day           BPM     Anxiety  Depression  \\\n",
       "count  735.000000     736.000000  6.290000e+02  736.000000  736.000000   \n",
       "mean    25.206803       3.572758  1.589948e+06    5.837636    4.796196   \n",
       "std     12.054970       3.028199  3.987261e+07    2.793054    3.028870   \n",
       "min     10.000000       0.000000  0.000000e+00    0.000000    0.000000   \n",
       "25%     18.000000       2.000000  1.000000e+02    4.000000    2.000000   \n",
       "50%     21.000000       3.000000  1.200000e+02    6.000000    5.000000   \n",
       "75%     28.000000       5.000000  1.440000e+02    8.000000    7.000000   \n",
       "max     89.000000      24.000000  1.000000e+09   10.000000   10.000000   \n",
       "\n",
       "         Insomnia         OCD  \n",
       "count  736.000000  736.000000  \n",
       "mean     3.738451    2.637228  \n",
       "std      3.088689    2.842017  \n",
       "min      0.000000    0.000000  \n",
       "25%      1.000000    0.000000  \n",
       "50%      3.000000    2.000000  \n",
       "75%      6.000000    5.000000  \n",
       "max     10.000000   10.000000  "
      ]
     },
     "execution_count": 3,
     "metadata": {},
     "output_type": "execute_result"
    }
   ],
   "source": [
    "df.describe()"
   ]
  },
  {
   "cell_type": "code",
   "execution_count": 4,
   "id": "a122bb56",
   "metadata": {},
   "outputs": [
    {
     "data": {
      "text/html": [
       "<div>\n",
       "<style scoped>\n",
       "    .dataframe tbody tr th:only-of-type {\n",
       "        vertical-align: middle;\n",
       "    }\n",
       "\n",
       "    .dataframe tbody tr th {\n",
       "        vertical-align: top;\n",
       "    }\n",
       "\n",
       "    .dataframe thead th {\n",
       "        text-align: right;\n",
       "    }\n",
       "</style>\n",
       "<table border=\"1\" class=\"dataframe\">\n",
       "  <thead>\n",
       "    <tr style=\"text-align: right;\">\n",
       "      <th></th>\n",
       "      <th>Timestamp</th>\n",
       "      <th>Age</th>\n",
       "      <th>Primary streaming service</th>\n",
       "      <th>Hours per day</th>\n",
       "      <th>While working</th>\n",
       "      <th>Instrumentalist</th>\n",
       "      <th>Composer</th>\n",
       "      <th>Fav genre</th>\n",
       "      <th>Exploratory</th>\n",
       "      <th>Foreign languages</th>\n",
       "      <th>...</th>\n",
       "      <th>Frequency [R&amp;B]</th>\n",
       "      <th>Frequency [Rap]</th>\n",
       "      <th>Frequency [Rock]</th>\n",
       "      <th>Frequency [Video game music]</th>\n",
       "      <th>Anxiety</th>\n",
       "      <th>Depression</th>\n",
       "      <th>Insomnia</th>\n",
       "      <th>OCD</th>\n",
       "      <th>Music effects</th>\n",
       "      <th>Permissions</th>\n",
       "    </tr>\n",
       "  </thead>\n",
       "  <tbody>\n",
       "    <tr>\n",
       "      <th>0</th>\n",
       "      <td>8/27/2022 19:29:02</td>\n",
       "      <td>18.0</td>\n",
       "      <td>Spotify</td>\n",
       "      <td>3.0</td>\n",
       "      <td>Yes</td>\n",
       "      <td>Yes</td>\n",
       "      <td>Yes</td>\n",
       "      <td>Latin</td>\n",
       "      <td>Yes</td>\n",
       "      <td>Yes</td>\n",
       "      <td>...</td>\n",
       "      <td>Sometimes</td>\n",
       "      <td>Very frequently</td>\n",
       "      <td>Never</td>\n",
       "      <td>Sometimes</td>\n",
       "      <td>3.0</td>\n",
       "      <td>0.0</td>\n",
       "      <td>1.0</td>\n",
       "      <td>0.0</td>\n",
       "      <td>NaN</td>\n",
       "      <td>I understand.</td>\n",
       "    </tr>\n",
       "    <tr>\n",
       "      <th>1</th>\n",
       "      <td>8/27/2022 19:57:31</td>\n",
       "      <td>63.0</td>\n",
       "      <td>Pandora</td>\n",
       "      <td>1.5</td>\n",
       "      <td>Yes</td>\n",
       "      <td>No</td>\n",
       "      <td>No</td>\n",
       "      <td>Rock</td>\n",
       "      <td>Yes</td>\n",
       "      <td>No</td>\n",
       "      <td>...</td>\n",
       "      <td>Sometimes</td>\n",
       "      <td>Rarely</td>\n",
       "      <td>Very frequently</td>\n",
       "      <td>Rarely</td>\n",
       "      <td>7.0</td>\n",
       "      <td>2.0</td>\n",
       "      <td>2.0</td>\n",
       "      <td>1.0</td>\n",
       "      <td>NaN</td>\n",
       "      <td>I understand.</td>\n",
       "    </tr>\n",
       "    <tr>\n",
       "      <th>2</th>\n",
       "      <td>8/27/2022 21:28:18</td>\n",
       "      <td>18.0</td>\n",
       "      <td>Spotify</td>\n",
       "      <td>4.0</td>\n",
       "      <td>No</td>\n",
       "      <td>No</td>\n",
       "      <td>No</td>\n",
       "      <td>Video game music</td>\n",
       "      <td>No</td>\n",
       "      <td>Yes</td>\n",
       "      <td>...</td>\n",
       "      <td>Never</td>\n",
       "      <td>Rarely</td>\n",
       "      <td>Rarely</td>\n",
       "      <td>Very frequently</td>\n",
       "      <td>7.0</td>\n",
       "      <td>7.0</td>\n",
       "      <td>10.0</td>\n",
       "      <td>2.0</td>\n",
       "      <td>No effect</td>\n",
       "      <td>I understand.</td>\n",
       "    </tr>\n",
       "    <tr>\n",
       "      <th>3</th>\n",
       "      <td>8/27/2022 21:40:40</td>\n",
       "      <td>61.0</td>\n",
       "      <td>YouTube Music</td>\n",
       "      <td>2.5</td>\n",
       "      <td>Yes</td>\n",
       "      <td>No</td>\n",
       "      <td>Yes</td>\n",
       "      <td>Jazz</td>\n",
       "      <td>Yes</td>\n",
       "      <td>Yes</td>\n",
       "      <td>...</td>\n",
       "      <td>Sometimes</td>\n",
       "      <td>Never</td>\n",
       "      <td>Never</td>\n",
       "      <td>Never</td>\n",
       "      <td>9.0</td>\n",
       "      <td>7.0</td>\n",
       "      <td>3.0</td>\n",
       "      <td>3.0</td>\n",
       "      <td>Improve</td>\n",
       "      <td>I understand.</td>\n",
       "    </tr>\n",
       "    <tr>\n",
       "      <th>4</th>\n",
       "      <td>8/27/2022 21:54:47</td>\n",
       "      <td>18.0</td>\n",
       "      <td>Spotify</td>\n",
       "      <td>4.0</td>\n",
       "      <td>Yes</td>\n",
       "      <td>No</td>\n",
       "      <td>No</td>\n",
       "      <td>R&amp;B</td>\n",
       "      <td>Yes</td>\n",
       "      <td>No</td>\n",
       "      <td>...</td>\n",
       "      <td>Very frequently</td>\n",
       "      <td>Very frequently</td>\n",
       "      <td>Never</td>\n",
       "      <td>Rarely</td>\n",
       "      <td>7.0</td>\n",
       "      <td>2.0</td>\n",
       "      <td>5.0</td>\n",
       "      <td>9.0</td>\n",
       "      <td>Improve</td>\n",
       "      <td>I understand.</td>\n",
       "    </tr>\n",
       "  </tbody>\n",
       "</table>\n",
       "<p>5 rows × 33 columns</p>\n",
       "</div>"
      ],
      "text/plain": [
       "            Timestamp   Age Primary streaming service  Hours per day  \\\n",
       "0  8/27/2022 19:29:02  18.0                   Spotify            3.0   \n",
       "1  8/27/2022 19:57:31  63.0                   Pandora            1.5   \n",
       "2  8/27/2022 21:28:18  18.0                   Spotify            4.0   \n",
       "3  8/27/2022 21:40:40  61.0             YouTube Music            2.5   \n",
       "4  8/27/2022 21:54:47  18.0                   Spotify            4.0   \n",
       "\n",
       "  While working Instrumentalist Composer         Fav genre Exploratory  \\\n",
       "0           Yes             Yes      Yes             Latin         Yes   \n",
       "1           Yes              No       No              Rock         Yes   \n",
       "2            No              No       No  Video game music          No   \n",
       "3           Yes              No      Yes              Jazz         Yes   \n",
       "4           Yes              No       No               R&B         Yes   \n",
       "\n",
       "  Foreign languages  ...  Frequency [R&B]  Frequency [Rap] Frequency [Rock]  \\\n",
       "0               Yes  ...        Sometimes  Very frequently            Never   \n",
       "1                No  ...        Sometimes           Rarely  Very frequently   \n",
       "2               Yes  ...            Never           Rarely           Rarely   \n",
       "3               Yes  ...        Sometimes            Never            Never   \n",
       "4                No  ...  Very frequently  Very frequently            Never   \n",
       "\n",
       "  Frequency [Video game music] Anxiety Depression Insomnia  OCD Music effects  \\\n",
       "0                    Sometimes     3.0        0.0      1.0  0.0           NaN   \n",
       "1                       Rarely     7.0        2.0      2.0  1.0           NaN   \n",
       "2              Very frequently     7.0        7.0     10.0  2.0     No effect   \n",
       "3                        Never     9.0        7.0      3.0  3.0       Improve   \n",
       "4                       Rarely     7.0        2.0      5.0  9.0       Improve   \n",
       "\n",
       "     Permissions  \n",
       "0  I understand.  \n",
       "1  I understand.  \n",
       "2  I understand.  \n",
       "3  I understand.  \n",
       "4  I understand.  \n",
       "\n",
       "[5 rows x 33 columns]"
      ]
     },
     "execution_count": 4,
     "metadata": {},
     "output_type": "execute_result"
    }
   ],
   "source": [
    "df.head()"
   ]
  },
  {
   "cell_type": "code",
   "execution_count": 5,
   "id": "dadb7e99",
   "metadata": {},
   "outputs": [
    {
     "data": {
      "text/html": [
       "<div>\n",
       "<style scoped>\n",
       "    .dataframe tbody tr th:only-of-type {\n",
       "        vertical-align: middle;\n",
       "    }\n",
       "\n",
       "    .dataframe tbody tr th {\n",
       "        vertical-align: top;\n",
       "    }\n",
       "\n",
       "    .dataframe thead th {\n",
       "        text-align: right;\n",
       "    }\n",
       "</style>\n",
       "<table border=\"1\" class=\"dataframe\">\n",
       "  <thead>\n",
       "    <tr style=\"text-align: right;\">\n",
       "      <th></th>\n",
       "      <th>Age</th>\n",
       "      <th>Primary streaming service</th>\n",
       "      <th>Hours per day</th>\n",
       "      <th>Instrumentalist</th>\n",
       "      <th>Composer</th>\n",
       "      <th>Fav genre</th>\n",
       "      <th>Exploratory</th>\n",
       "      <th>Foreign languages</th>\n",
       "      <th>BPM</th>\n",
       "      <th>Anxiety</th>\n",
       "      <th>Depression</th>\n",
       "      <th>Insomnia</th>\n",
       "      <th>OCD</th>\n",
       "      <th>Music effects</th>\n",
       "    </tr>\n",
       "  </thead>\n",
       "  <tbody>\n",
       "    <tr>\n",
       "      <th>0</th>\n",
       "      <td>18.0</td>\n",
       "      <td>Spotify</td>\n",
       "      <td>3.0</td>\n",
       "      <td>Yes</td>\n",
       "      <td>Yes</td>\n",
       "      <td>Latin</td>\n",
       "      <td>Yes</td>\n",
       "      <td>Yes</td>\n",
       "      <td>156.0</td>\n",
       "      <td>3.0</td>\n",
       "      <td>0.0</td>\n",
       "      <td>1.0</td>\n",
       "      <td>0.0</td>\n",
       "      <td>NaN</td>\n",
       "    </tr>\n",
       "    <tr>\n",
       "      <th>1</th>\n",
       "      <td>63.0</td>\n",
       "      <td>Pandora</td>\n",
       "      <td>1.5</td>\n",
       "      <td>No</td>\n",
       "      <td>No</td>\n",
       "      <td>Rock</td>\n",
       "      <td>Yes</td>\n",
       "      <td>No</td>\n",
       "      <td>119.0</td>\n",
       "      <td>7.0</td>\n",
       "      <td>2.0</td>\n",
       "      <td>2.0</td>\n",
       "      <td>1.0</td>\n",
       "      <td>NaN</td>\n",
       "    </tr>\n",
       "    <tr>\n",
       "      <th>2</th>\n",
       "      <td>18.0</td>\n",
       "      <td>Spotify</td>\n",
       "      <td>4.0</td>\n",
       "      <td>No</td>\n",
       "      <td>No</td>\n",
       "      <td>Video game music</td>\n",
       "      <td>No</td>\n",
       "      <td>Yes</td>\n",
       "      <td>132.0</td>\n",
       "      <td>7.0</td>\n",
       "      <td>7.0</td>\n",
       "      <td>10.0</td>\n",
       "      <td>2.0</td>\n",
       "      <td>No effect</td>\n",
       "    </tr>\n",
       "    <tr>\n",
       "      <th>3</th>\n",
       "      <td>61.0</td>\n",
       "      <td>YouTube Music</td>\n",
       "      <td>2.5</td>\n",
       "      <td>No</td>\n",
       "      <td>Yes</td>\n",
       "      <td>Jazz</td>\n",
       "      <td>Yes</td>\n",
       "      <td>Yes</td>\n",
       "      <td>84.0</td>\n",
       "      <td>9.0</td>\n",
       "      <td>7.0</td>\n",
       "      <td>3.0</td>\n",
       "      <td>3.0</td>\n",
       "      <td>Improve</td>\n",
       "    </tr>\n",
       "    <tr>\n",
       "      <th>4</th>\n",
       "      <td>18.0</td>\n",
       "      <td>Spotify</td>\n",
       "      <td>4.0</td>\n",
       "      <td>No</td>\n",
       "      <td>No</td>\n",
       "      <td>R&amp;B</td>\n",
       "      <td>Yes</td>\n",
       "      <td>No</td>\n",
       "      <td>107.0</td>\n",
       "      <td>7.0</td>\n",
       "      <td>2.0</td>\n",
       "      <td>5.0</td>\n",
       "      <td>9.0</td>\n",
       "      <td>Improve</td>\n",
       "    </tr>\n",
       "    <tr>\n",
       "      <th>...</th>\n",
       "      <td>...</td>\n",
       "      <td>...</td>\n",
       "      <td>...</td>\n",
       "      <td>...</td>\n",
       "      <td>...</td>\n",
       "      <td>...</td>\n",
       "      <td>...</td>\n",
       "      <td>...</td>\n",
       "      <td>...</td>\n",
       "      <td>...</td>\n",
       "      <td>...</td>\n",
       "      <td>...</td>\n",
       "      <td>...</td>\n",
       "      <td>...</td>\n",
       "    </tr>\n",
       "    <tr>\n",
       "      <th>731</th>\n",
       "      <td>17.0</td>\n",
       "      <td>Spotify</td>\n",
       "      <td>2.0</td>\n",
       "      <td>Yes</td>\n",
       "      <td>No</td>\n",
       "      <td>Rock</td>\n",
       "      <td>Yes</td>\n",
       "      <td>Yes</td>\n",
       "      <td>120.0</td>\n",
       "      <td>7.0</td>\n",
       "      <td>6.0</td>\n",
       "      <td>0.0</td>\n",
       "      <td>9.0</td>\n",
       "      <td>Improve</td>\n",
       "    </tr>\n",
       "    <tr>\n",
       "      <th>732</th>\n",
       "      <td>18.0</td>\n",
       "      <td>Spotify</td>\n",
       "      <td>1.0</td>\n",
       "      <td>Yes</td>\n",
       "      <td>No</td>\n",
       "      <td>Pop</td>\n",
       "      <td>Yes</td>\n",
       "      <td>Yes</td>\n",
       "      <td>160.0</td>\n",
       "      <td>3.0</td>\n",
       "      <td>2.0</td>\n",
       "      <td>2.0</td>\n",
       "      <td>5.0</td>\n",
       "      <td>Improve</td>\n",
       "    </tr>\n",
       "    <tr>\n",
       "      <th>733</th>\n",
       "      <td>19.0</td>\n",
       "      <td>Other streaming service</td>\n",
       "      <td>6.0</td>\n",
       "      <td>No</td>\n",
       "      <td>Yes</td>\n",
       "      <td>Rap</td>\n",
       "      <td>Yes</td>\n",
       "      <td>No</td>\n",
       "      <td>120.0</td>\n",
       "      <td>2.0</td>\n",
       "      <td>2.0</td>\n",
       "      <td>2.0</td>\n",
       "      <td>2.0</td>\n",
       "      <td>Improve</td>\n",
       "    </tr>\n",
       "    <tr>\n",
       "      <th>734</th>\n",
       "      <td>19.0</td>\n",
       "      <td>Spotify</td>\n",
       "      <td>5.0</td>\n",
       "      <td>Yes</td>\n",
       "      <td>No</td>\n",
       "      <td>Classical</td>\n",
       "      <td>No</td>\n",
       "      <td>No</td>\n",
       "      <td>170.0</td>\n",
       "      <td>2.0</td>\n",
       "      <td>3.0</td>\n",
       "      <td>2.0</td>\n",
       "      <td>1.0</td>\n",
       "      <td>Improve</td>\n",
       "    </tr>\n",
       "    <tr>\n",
       "      <th>735</th>\n",
       "      <td>29.0</td>\n",
       "      <td>YouTube Music</td>\n",
       "      <td>2.0</td>\n",
       "      <td>No</td>\n",
       "      <td>No</td>\n",
       "      <td>Hip hop</td>\n",
       "      <td>Yes</td>\n",
       "      <td>Yes</td>\n",
       "      <td>98.0</td>\n",
       "      <td>2.0</td>\n",
       "      <td>2.0</td>\n",
       "      <td>2.0</td>\n",
       "      <td>5.0</td>\n",
       "      <td>Improve</td>\n",
       "    </tr>\n",
       "  </tbody>\n",
       "</table>\n",
       "<p>736 rows × 14 columns</p>\n",
       "</div>"
      ],
      "text/plain": [
       "      Age Primary streaming service  Hours per day Instrumentalist Composer  \\\n",
       "0    18.0                   Spotify            3.0             Yes      Yes   \n",
       "1    63.0                   Pandora            1.5              No       No   \n",
       "2    18.0                   Spotify            4.0              No       No   \n",
       "3    61.0             YouTube Music            2.5              No      Yes   \n",
       "4    18.0                   Spotify            4.0              No       No   \n",
       "..    ...                       ...            ...             ...      ...   \n",
       "731  17.0                   Spotify            2.0             Yes       No   \n",
       "732  18.0                   Spotify            1.0             Yes       No   \n",
       "733  19.0   Other streaming service            6.0              No      Yes   \n",
       "734  19.0                   Spotify            5.0             Yes       No   \n",
       "735  29.0             YouTube Music            2.0              No       No   \n",
       "\n",
       "            Fav genre Exploratory Foreign languages    BPM  Anxiety  \\\n",
       "0               Latin         Yes               Yes  156.0      3.0   \n",
       "1                Rock         Yes                No  119.0      7.0   \n",
       "2    Video game music          No               Yes  132.0      7.0   \n",
       "3                Jazz         Yes               Yes   84.0      9.0   \n",
       "4                 R&B         Yes                No  107.0      7.0   \n",
       "..                ...         ...               ...    ...      ...   \n",
       "731              Rock         Yes               Yes  120.0      7.0   \n",
       "732               Pop         Yes               Yes  160.0      3.0   \n",
       "733               Rap         Yes                No  120.0      2.0   \n",
       "734         Classical          No                No  170.0      2.0   \n",
       "735           Hip hop         Yes               Yes   98.0      2.0   \n",
       "\n",
       "     Depression  Insomnia  OCD Music effects  \n",
       "0           0.0       1.0  0.0           NaN  \n",
       "1           2.0       2.0  1.0           NaN  \n",
       "2           7.0      10.0  2.0     No effect  \n",
       "3           7.0       3.0  3.0       Improve  \n",
       "4           2.0       5.0  9.0       Improve  \n",
       "..          ...       ...  ...           ...  \n",
       "731         6.0       0.0  9.0       Improve  \n",
       "732         2.0       2.0  5.0       Improve  \n",
       "733         2.0       2.0  2.0       Improve  \n",
       "734         3.0       2.0  1.0       Improve  \n",
       "735         2.0       2.0  5.0       Improve  \n",
       "\n",
       "[736 rows x 14 columns]"
      ]
     },
     "execution_count": 5,
     "metadata": {},
     "output_type": "execute_result"
    }
   ],
   "source": [
    "cols = ['Age', 'Primary streaming service', 'Hours per day', 'Instrumentalist','Composer', 'Fav genre', 'Exploratory', 'Foreign languages','BPM','Anxiety','Depression','Insomnia','OCD','Music effects']\n",
    "df = df[cols]\n",
    "df"
   ]
  },
  {
   "cell_type": "code",
   "execution_count": 6,
   "id": "bf7af2d9",
   "metadata": {},
   "outputs": [
    {
     "data": {
      "image/png": "[encoded data removed]",
      "text/plain": [
       "<Figure size 432x288 with 1 Axes>"
      ]
     },
     "metadata": {
      "needs_background": "light"
     },
     "output_type": "display_data"
    }
   ],
   "source": [
    "num_bins = 10\n",
    "\n",
    "\n",
    "fig, ax = plt.subplots(figsize = (6,4))\n",
    "\n",
    "\n",
    "# Plots #\n",
    "    # Plot histogram\n",
    "df[\"Anxiety\"].plot(kind = \"hist\", density = True, bins = num_bins) # change density to true, because KDE uses density\n",
    "    # Plot KDE\n",
    "df[\"Anxiety\"].plot(kind = \"kde\")\n",
    "\n",
    "# X #\n",
    "ax.set_xlabel(\"Self-reported ranking\")\n",
    "\n",
    "# Y #\n",
    "ax.set_ylim(0, 1)\n",
    "\n",
    "# Overall #\n",
    "ax.set_title(\"Anxiety\")\n",
    "\n",
    " # Limit x range to 0-10\n",
    "ax.set_xlim(0, 10)\n",
    "\n",
    "# Y #\n",
    "ax.set_ylim(0,0.3)\n",
    "    \n",
    "    # Relabel the axis as \"Frequency\"\n",
    "ax.set_ylabel(\"Frequency\")\n",
    "\n",
    "\n",
    "plt.show()\n",
    "#fig.savefig(\"anxiety_hist.jpg\")"
   ]
  },
  {
   "cell_type": "code",
   "execution_count": 7,
   "id": "b805e38c",
   "metadata": {},
   "outputs": [
    {
     "data": {
      "image/png": "[encoded data removed]",
      "text/plain": [
       "<Figure size 432x288 with 1 Axes>"
      ]
     },
     "metadata": {
      "needs_background": "light"
     },
     "output_type": "display_data"
    }
   ],
   "source": [
    "num_bins = 10\n",
    "\n",
    "\n",
    "fig, ax = plt.subplots(figsize = (6,4))\n",
    "\n",
    "\n",
    "# Plots #\n",
    "    # Plot histogram\n",
    "df[\"Depression\"].plot(kind = \"hist\", density = True, bins = num_bins) # change density to true, because KDE uses density\n",
    "    # Plot KDE\n",
    "df[\"Depression\"].plot(kind = \"kde\")\n",
    "\n",
    "# X #\n",
    "ax.set_xlabel(\"Self-reported ranking\")\n",
    "\n",
    "# Y #\n",
    "ax.set_ylim(0, 1)\n",
    "\n",
    "# Overall #\n",
    "ax.set_title(\"Depression\")\n",
    "\n",
    " # Limit x range to 0-10\n",
    "ax.set_xlim(0, 10)\n",
    "\n",
    "# Y #\n",
    "ax.set_ylim(0,0.3)\n",
    "    \n",
    "    # Relabel the axis as \"Frequency\"\n",
    "ax.set_ylabel(\"Frequency\")\n",
    "\n",
    "\n",
    "plt.show()\n",
    "#fig.savefig(\"depression_hist.jpg\")"
   ]
  },
  {
   "cell_type": "code",
   "execution_count": 8,
   "id": "d2b93b3f",
   "metadata": {},
   "outputs": [
    {
     "data": {
      "image/png": "[encoded data removed]",
      "text/plain": [
       "<Figure size 432x288 with 1 Axes>"
      ]
     },
     "metadata": {
      "needs_background": "light"
     },
     "output_type": "display_data"
    }
   ],
   "source": [
    "num_bins = 10\n",
    "\n",
    "\n",
    "fig, ax = plt.subplots(figsize = (6,4))\n",
    "\n",
    "\n",
    "# Plots #\n",
    "    # Plot histogram\n",
    "df[\"Insomnia\"].plot(kind = \"hist\", density = True, bins = num_bins) # change density to true, because KDE uses density\n",
    "    # Plot KDE\n",
    "df[\"Insomnia\"].plot(kind = \"kde\")\n",
    "\n",
    "# X #\n",
    "ax.set_xlabel(\"Self-reported ranking\")\n",
    "\n",
    "# Y #\n",
    "ax.set_ylim(0, 1)\n",
    "\n",
    "# Overall #\n",
    "ax.set_title(\"Insomnia\")\n",
    "\n",
    " # Limit x range to 0-10\n",
    "ax.set_xlim(0, 10)\n",
    "\n",
    "# Y #\n",
    "ax.set_ylim(0,0.3)\n",
    "    \n",
    "    # Relabel the axis as \"Frequency\"\n",
    "ax.set_ylabel(\"Frequency\")\n",
    "\n",
    "\n",
    "plt.show()\n",
    "#fig.savefig(\"insomnia_hist.jpg\")"
   ]
  },
  {
   "cell_type": "code",
   "execution_count": 9,
   "id": "70daa312",
   "metadata": {},
   "outputs": [
    {
     "data": {
      "image/png": "[encoded data removed]",
      "text/plain": [
       "<Figure size 432x288 with 1 Axes>"
      ]
     },
     "metadata": {
      "needs_background": "light"
     },
     "output_type": "display_data"
    }
   ],
   "source": [
    "num_bins = 10\n",
    "\n",
    "\n",
    "fig, ax = plt.subplots(figsize = (6,4))\n",
    "\n",
    "\n",
    "# Plots #\n",
    "    # Plot histogram\n",
    "df[\"OCD\"].plot(kind = \"hist\", density = True, bins = num_bins) # change density to true, because KDE uses density\n",
    "    # Plot KDE\n",
    "df[\"OCD\"].plot(kind = \"kde\")\n",
    "\n",
    "# X #\n",
    "ax.set_xlabel(\"Self-reported ranking\")\n",
    "\n",
    "# Y #\n",
    "ax.set_ylim(0, 1)\n",
    "\n",
    "# Overall #\n",
    "ax.set_title(\"OCD\")\n",
    "\n",
    " # Limit x range to 0-10\n",
    "ax.set_xlim(0, 10)\n",
    "\n",
    "# Y #\n",
    "ax.set_ylim(0,0.4)\n",
    "    \n",
    "    # Relabel the axis as \"Frequency\"\n",
    "ax.set_ylabel(\"Frequency\")\n",
    "\n",
    "\n",
    "plt.show()\n",
    "#fig.savefig(\"ocd_hist.jpg\")"
   ]
  },
  {
   "cell_type": "code",
   "execution_count": 10,
   "id": "464c0b8a",
   "metadata": {},
   "outputs": [
    {
     "data": {
      "image/png": "[encoded data removed]",
      "text/plain": [
       "<Figure size 432x288 with 1 Axes>"
      ]
     },
     "metadata": {
      "needs_background": "light"
     },
     "output_type": "display_data"
    }
   ],
   "source": [
    "boxplot = df.boxplot(column=['Age'], grid=False)  \n",
    "#fig.savefig(\"age_box.jpg\")"
   ]
  },
  {
   "cell_type": "code",
   "execution_count": 11,
   "id": "c6c9e687",
   "metadata": {},
   "outputs": [
    {
     "name": "stdout",
     "output_type": "stream",
     "text": [
      "Age                            1\n",
      "Primary streaming service      1\n",
      "Hours per day                  0\n",
      "Instrumentalist                4\n",
      "Composer                       1\n",
      "Fav genre                      0\n",
      "Exploratory                    0\n",
      "Foreign languages              4\n",
      "BPM                          107\n",
      "Anxiety                        0\n",
      "Depression                     0\n",
      "Insomnia                       0\n",
      "OCD                            0\n",
      "Music effects                  8\n",
      "dtype: int64\n"
     ]
    }
   ],
   "source": [
    "print(df.isnull().sum())"
   ]
  },
  {
   "cell_type": "code",
   "execution_count": 12,
   "id": "5e0ed64e",
   "metadata": {},
   "outputs": [
    {
     "data": {
      "text/html": [
       "<div>\n",
       "<style scoped>\n",
       "    .dataframe tbody tr th:only-of-type {\n",
       "        vertical-align: middle;\n",
       "    }\n",
       "\n",
       "    .dataframe tbody tr th {\n",
       "        vertical-align: top;\n",
       "    }\n",
       "\n",
       "    .dataframe thead th {\n",
       "        text-align: right;\n",
       "    }\n",
       "</style>\n",
       "<table border=\"1\" class=\"dataframe\">\n",
       "  <thead>\n",
       "    <tr style=\"text-align: right;\">\n",
       "      <th></th>\n",
       "      <th>Age</th>\n",
       "      <th>Primary streaming service</th>\n",
       "      <th>Hours per day</th>\n",
       "      <th>Instrumentalist</th>\n",
       "      <th>Composer</th>\n",
       "      <th>Fav genre</th>\n",
       "      <th>Exploratory</th>\n",
       "      <th>Foreign languages</th>\n",
       "      <th>BPM</th>\n",
       "      <th>Anxiety</th>\n",
       "      <th>Depression</th>\n",
       "      <th>Insomnia</th>\n",
       "      <th>OCD</th>\n",
       "      <th>Music effects</th>\n",
       "    </tr>\n",
       "  </thead>\n",
       "  <tbody>\n",
       "    <tr>\n",
       "      <th>0</th>\n",
       "      <td>18.0</td>\n",
       "      <td>Spotify</td>\n",
       "      <td>3.0</td>\n",
       "      <td>Yes</td>\n",
       "      <td>Yes</td>\n",
       "      <td>Latin</td>\n",
       "      <td>Yes</td>\n",
       "      <td>Yes</td>\n",
       "      <td>156.0</td>\n",
       "      <td>3.0</td>\n",
       "      <td>0.0</td>\n",
       "      <td>1.0</td>\n",
       "      <td>0.0</td>\n",
       "      <td>No effect</td>\n",
       "    </tr>\n",
       "    <tr>\n",
       "      <th>1</th>\n",
       "      <td>63.0</td>\n",
       "      <td>Pandora</td>\n",
       "      <td>1.5</td>\n",
       "      <td>No</td>\n",
       "      <td>No</td>\n",
       "      <td>Rock</td>\n",
       "      <td>Yes</td>\n",
       "      <td>No</td>\n",
       "      <td>119.0</td>\n",
       "      <td>7.0</td>\n",
       "      <td>2.0</td>\n",
       "      <td>2.0</td>\n",
       "      <td>1.0</td>\n",
       "      <td>No effect</td>\n",
       "    </tr>\n",
       "    <tr>\n",
       "      <th>2</th>\n",
       "      <td>18.0</td>\n",
       "      <td>Spotify</td>\n",
       "      <td>4.0</td>\n",
       "      <td>No</td>\n",
       "      <td>No</td>\n",
       "      <td>Video game music</td>\n",
       "      <td>No</td>\n",
       "      <td>Yes</td>\n",
       "      <td>132.0</td>\n",
       "      <td>7.0</td>\n",
       "      <td>7.0</td>\n",
       "      <td>10.0</td>\n",
       "      <td>2.0</td>\n",
       "      <td>No effect</td>\n",
       "    </tr>\n",
       "    <tr>\n",
       "      <th>3</th>\n",
       "      <td>61.0</td>\n",
       "      <td>YouTube Music</td>\n",
       "      <td>2.5</td>\n",
       "      <td>No</td>\n",
       "      <td>Yes</td>\n",
       "      <td>Jazz</td>\n",
       "      <td>Yes</td>\n",
       "      <td>Yes</td>\n",
       "      <td>84.0</td>\n",
       "      <td>9.0</td>\n",
       "      <td>7.0</td>\n",
       "      <td>3.0</td>\n",
       "      <td>3.0</td>\n",
       "      <td>Improve</td>\n",
       "    </tr>\n",
       "    <tr>\n",
       "      <th>4</th>\n",
       "      <td>18.0</td>\n",
       "      <td>Spotify</td>\n",
       "      <td>4.0</td>\n",
       "      <td>No</td>\n",
       "      <td>No</td>\n",
       "      <td>R&amp;B</td>\n",
       "      <td>Yes</td>\n",
       "      <td>No</td>\n",
       "      <td>107.0</td>\n",
       "      <td>7.0</td>\n",
       "      <td>2.0</td>\n",
       "      <td>5.0</td>\n",
       "      <td>9.0</td>\n",
       "      <td>Improve</td>\n",
       "    </tr>\n",
       "    <tr>\n",
       "      <th>...</th>\n",
       "      <td>...</td>\n",
       "      <td>...</td>\n",
       "      <td>...</td>\n",
       "      <td>...</td>\n",
       "      <td>...</td>\n",
       "      <td>...</td>\n",
       "      <td>...</td>\n",
       "      <td>...</td>\n",
       "      <td>...</td>\n",
       "      <td>...</td>\n",
       "      <td>...</td>\n",
       "      <td>...</td>\n",
       "      <td>...</td>\n",
       "      <td>...</td>\n",
       "    </tr>\n",
       "    <tr>\n",
       "      <th>731</th>\n",
       "      <td>17.0</td>\n",
       "      <td>Spotify</td>\n",
       "      <td>2.0</td>\n",
       "      <td>Yes</td>\n",
       "      <td>No</td>\n",
       "      <td>Rock</td>\n",
       "      <td>Yes</td>\n",
       "      <td>Yes</td>\n",
       "      <td>120.0</td>\n",
       "      <td>7.0</td>\n",
       "      <td>6.0</td>\n",
       "      <td>0.0</td>\n",
       "      <td>9.0</td>\n",
       "      <td>Improve</td>\n",
       "    </tr>\n",
       "    <tr>\n",
       "      <th>732</th>\n",
       "      <td>18.0</td>\n",
       "      <td>Spotify</td>\n",
       "      <td>1.0</td>\n",
       "      <td>Yes</td>\n",
       "      <td>No</td>\n",
       "      <td>Pop</td>\n",
       "      <td>Yes</td>\n",
       "      <td>Yes</td>\n",
       "      <td>160.0</td>\n",
       "      <td>3.0</td>\n",
       "      <td>2.0</td>\n",
       "      <td>2.0</td>\n",
       "      <td>5.0</td>\n",
       "      <td>Improve</td>\n",
       "    </tr>\n",
       "    <tr>\n",
       "      <th>733</th>\n",
       "      <td>19.0</td>\n",
       "      <td>Other streaming service</td>\n",
       "      <td>6.0</td>\n",
       "      <td>No</td>\n",
       "      <td>Yes</td>\n",
       "      <td>Rap</td>\n",
       "      <td>Yes</td>\n",
       "      <td>No</td>\n",
       "      <td>120.0</td>\n",
       "      <td>2.0</td>\n",
       "      <td>2.0</td>\n",
       "      <td>2.0</td>\n",
       "      <td>2.0</td>\n",
       "      <td>Improve</td>\n",
       "    </tr>\n",
       "    <tr>\n",
       "      <th>734</th>\n",
       "      <td>19.0</td>\n",
       "      <td>Spotify</td>\n",
       "      <td>5.0</td>\n",
       "      <td>Yes</td>\n",
       "      <td>No</td>\n",
       "      <td>Classical</td>\n",
       "      <td>No</td>\n",
       "      <td>No</td>\n",
       "      <td>170.0</td>\n",
       "      <td>2.0</td>\n",
       "      <td>3.0</td>\n",
       "      <td>2.0</td>\n",
       "      <td>1.0</td>\n",
       "      <td>Improve</td>\n",
       "    </tr>\n",
       "    <tr>\n",
       "      <th>735</th>\n",
       "      <td>29.0</td>\n",
       "      <td>YouTube Music</td>\n",
       "      <td>2.0</td>\n",
       "      <td>No</td>\n",
       "      <td>No</td>\n",
       "      <td>Hip hop</td>\n",
       "      <td>Yes</td>\n",
       "      <td>Yes</td>\n",
       "      <td>98.0</td>\n",
       "      <td>2.0</td>\n",
       "      <td>2.0</td>\n",
       "      <td>2.0</td>\n",
       "      <td>5.0</td>\n",
       "      <td>Improve</td>\n",
       "    </tr>\n",
       "  </tbody>\n",
       "</table>\n",
       "<p>736 rows × 14 columns</p>\n",
       "</div>"
      ],
      "text/plain": [
       "      Age Primary streaming service  Hours per day Instrumentalist Composer  \\\n",
       "0    18.0                   Spotify            3.0             Yes      Yes   \n",
       "1    63.0                   Pandora            1.5              No       No   \n",
       "2    18.0                   Spotify            4.0              No       No   \n",
       "3    61.0             YouTube Music            2.5              No      Yes   \n",
       "4    18.0                   Spotify            4.0              No       No   \n",
       "..    ...                       ...            ...             ...      ...   \n",
       "731  17.0                   Spotify            2.0             Yes       No   \n",
       "732  18.0                   Spotify            1.0             Yes       No   \n",
       "733  19.0   Other streaming service            6.0              No      Yes   \n",
       "734  19.0                   Spotify            5.0             Yes       No   \n",
       "735  29.0             YouTube Music            2.0              No       No   \n",
       "\n",
       "            Fav genre Exploratory Foreign languages    BPM  Anxiety  \\\n",
       "0               Latin         Yes               Yes  156.0      3.0   \n",
       "1                Rock         Yes                No  119.0      7.0   \n",
       "2    Video game music          No               Yes  132.0      7.0   \n",
       "3                Jazz         Yes               Yes   84.0      9.0   \n",
       "4                 R&B         Yes                No  107.0      7.0   \n",
       "..                ...         ...               ...    ...      ...   \n",
       "731              Rock         Yes               Yes  120.0      7.0   \n",
       "732               Pop         Yes               Yes  160.0      3.0   \n",
       "733               Rap         Yes                No  120.0      2.0   \n",
       "734         Classical          No                No  170.0      2.0   \n",
       "735           Hip hop         Yes               Yes   98.0      2.0   \n",
       "\n",
       "     Depression  Insomnia  OCD Music effects  \n",
       "0           0.0       1.0  0.0     No effect  \n",
       "1           2.0       2.0  1.0     No effect  \n",
       "2           7.0      10.0  2.0     No effect  \n",
       "3           7.0       3.0  3.0       Improve  \n",
       "4           2.0       5.0  9.0       Improve  \n",
       "..          ...       ...  ...           ...  \n",
       "731         6.0       0.0  9.0       Improve  \n",
       "732         2.0       2.0  5.0       Improve  \n",
       "733         2.0       2.0  2.0       Improve  \n",
       "734         3.0       2.0  1.0       Improve  \n",
       "735         2.0       2.0  5.0       Improve  \n",
       "\n",
       "[736 rows x 14 columns]"
      ]
     },
     "execution_count": 12,
     "metadata": {},
     "output_type": "execute_result"
    }
   ],
   "source": [
    "df['Music effects'] = df['Music effects'].fillna('No effect')\n",
    "df"
   ]
  },
  {
   "cell_type": "code",
   "execution_count": 13,
   "id": "d093684f",
   "metadata": {},
   "outputs": [],
   "source": [
    "df=df.dropna()"
   ]
  },
  {
   "cell_type": "code",
   "execution_count": 14,
   "id": "1694a5b8",
   "metadata": {},
   "outputs": [
    {
     "name": "stdout",
     "output_type": "stream",
     "text": [
      "Age                          0\n",
      "Primary streaming service    0\n",
      "Hours per day                0\n",
      "Instrumentalist              0\n",
      "Composer                     0\n",
      "Fav genre                    0\n",
      "Exploratory                  0\n",
      "Foreign languages            0\n",
      "BPM                          0\n",
      "Anxiety                      0\n",
      "Depression                   0\n",
      "Insomnia                     0\n",
      "OCD                          0\n",
      "Music effects                0\n",
      "dtype: int64\n"
     ]
    },
    {
     "data": {
      "text/html": [
       "<div>\n",
       "<style scoped>\n",
       "    .dataframe tbody tr th:only-of-type {\n",
       "        vertical-align: middle;\n",
       "    }\n",
       "\n",
       "    .dataframe tbody tr th {\n",
       "        vertical-align: top;\n",
       "    }\n",
       "\n",
       "    .dataframe thead th {\n",
       "        text-align: right;\n",
       "    }\n",
       "</style>\n",
       "<table border=\"1\" class=\"dataframe\">\n",
       "  <thead>\n",
       "    <tr style=\"text-align: right;\">\n",
       "      <th></th>\n",
       "      <th>Age</th>\n",
       "      <th>Primary streaming service</th>\n",
       "      <th>Hours per day</th>\n",
       "      <th>Instrumentalist</th>\n",
       "      <th>Composer</th>\n",
       "      <th>Fav genre</th>\n",
       "      <th>Exploratory</th>\n",
       "      <th>Foreign languages</th>\n",
       "      <th>BPM</th>\n",
       "      <th>Anxiety</th>\n",
       "      <th>Depression</th>\n",
       "      <th>Insomnia</th>\n",
       "      <th>OCD</th>\n",
       "      <th>Music effects</th>\n",
       "    </tr>\n",
       "  </thead>\n",
       "  <tbody>\n",
       "    <tr>\n",
       "      <th>0</th>\n",
       "      <td>18.0</td>\n",
       "      <td>Spotify</td>\n",
       "      <td>3.0</td>\n",
       "      <td>Yes</td>\n",
       "      <td>Yes</td>\n",
       "      <td>Latin</td>\n",
       "      <td>Yes</td>\n",
       "      <td>Yes</td>\n",
       "      <td>156.0</td>\n",
       "      <td>3.0</td>\n",
       "      <td>0.0</td>\n",
       "      <td>1.0</td>\n",
       "      <td>0.0</td>\n",
       "      <td>No effect</td>\n",
       "    </tr>\n",
       "    <tr>\n",
       "      <th>1</th>\n",
       "      <td>63.0</td>\n",
       "      <td>Pandora</td>\n",
       "      <td>1.5</td>\n",
       "      <td>No</td>\n",
       "      <td>No</td>\n",
       "      <td>Rock</td>\n",
       "      <td>Yes</td>\n",
       "      <td>No</td>\n",
       "      <td>119.0</td>\n",
       "      <td>7.0</td>\n",
       "      <td>2.0</td>\n",
       "      <td>2.0</td>\n",
       "      <td>1.0</td>\n",
       "      <td>No effect</td>\n",
       "    </tr>\n",
       "    <tr>\n",
       "      <th>2</th>\n",
       "      <td>18.0</td>\n",
       "      <td>Spotify</td>\n",
       "      <td>4.0</td>\n",
       "      <td>No</td>\n",
       "      <td>No</td>\n",
       "      <td>Video game music</td>\n",
       "      <td>No</td>\n",
       "      <td>Yes</td>\n",
       "      <td>132.0</td>\n",
       "      <td>7.0</td>\n",
       "      <td>7.0</td>\n",
       "      <td>10.0</td>\n",
       "      <td>2.0</td>\n",
       "      <td>No effect</td>\n",
       "    </tr>\n",
       "    <tr>\n",
       "      <th>3</th>\n",
       "      <td>61.0</td>\n",
       "      <td>YouTube Music</td>\n",
       "      <td>2.5</td>\n",
       "      <td>No</td>\n",
       "      <td>Yes</td>\n",
       "      <td>Jazz</td>\n",
       "      <td>Yes</td>\n",
       "      <td>Yes</td>\n",
       "      <td>84.0</td>\n",
       "      <td>9.0</td>\n",
       "      <td>7.0</td>\n",
       "      <td>3.0</td>\n",
       "      <td>3.0</td>\n",
       "      <td>Improve</td>\n",
       "    </tr>\n",
       "    <tr>\n",
       "      <th>4</th>\n",
       "      <td>18.0</td>\n",
       "      <td>Spotify</td>\n",
       "      <td>4.0</td>\n",
       "      <td>No</td>\n",
       "      <td>No</td>\n",
       "      <td>R&amp;B</td>\n",
       "      <td>Yes</td>\n",
       "      <td>No</td>\n",
       "      <td>107.0</td>\n",
       "      <td>7.0</td>\n",
       "      <td>2.0</td>\n",
       "      <td>5.0</td>\n",
       "      <td>9.0</td>\n",
       "      <td>Improve</td>\n",
       "    </tr>\n",
       "    <tr>\n",
       "      <th>...</th>\n",
       "      <td>...</td>\n",
       "      <td>...</td>\n",
       "      <td>...</td>\n",
       "      <td>...</td>\n",
       "      <td>...</td>\n",
       "      <td>...</td>\n",
       "      <td>...</td>\n",
       "      <td>...</td>\n",
       "      <td>...</td>\n",
       "      <td>...</td>\n",
       "      <td>...</td>\n",
       "      <td>...</td>\n",
       "      <td>...</td>\n",
       "      <td>...</td>\n",
       "    </tr>\n",
       "    <tr>\n",
       "      <th>731</th>\n",
       "      <td>17.0</td>\n",
       "      <td>Spotify</td>\n",
       "      <td>2.0</td>\n",
       "      <td>Yes</td>\n",
       "      <td>No</td>\n",
       "      <td>Rock</td>\n",
       "      <td>Yes</td>\n",
       "      <td>Yes</td>\n",
       "      <td>120.0</td>\n",
       "      <td>7.0</td>\n",
       "      <td>6.0</td>\n",
       "      <td>0.0</td>\n",
       "      <td>9.0</td>\n",
       "      <td>Improve</td>\n",
       "    </tr>\n",
       "    <tr>\n",
       "      <th>732</th>\n",
       "      <td>18.0</td>\n",
       "      <td>Spotify</td>\n",
       "      <td>1.0</td>\n",
       "      <td>Yes</td>\n",
       "      <td>No</td>\n",
       "      <td>Pop</td>\n",
       "      <td>Yes</td>\n",
       "      <td>Yes</td>\n",
       "      <td>160.0</td>\n",
       "      <td>3.0</td>\n",
       "      <td>2.0</td>\n",
       "      <td>2.0</td>\n",
       "      <td>5.0</td>\n",
       "      <td>Improve</td>\n",
       "    </tr>\n",
       "    <tr>\n",
       "      <th>733</th>\n",
       "      <td>19.0</td>\n",
       "      <td>Other streaming service</td>\n",
       "      <td>6.0</td>\n",
       "      <td>No</td>\n",
       "      <td>Yes</td>\n",
       "      <td>Rap</td>\n",
       "      <td>Yes</td>\n",
       "      <td>No</td>\n",
       "      <td>120.0</td>\n",
       "      <td>2.0</td>\n",
       "      <td>2.0</td>\n",
       "      <td>2.0</td>\n",
       "      <td>2.0</td>\n",
       "      <td>Improve</td>\n",
       "    </tr>\n",
       "    <tr>\n",
       "      <th>734</th>\n",
       "      <td>19.0</td>\n",
       "      <td>Spotify</td>\n",
       "      <td>5.0</td>\n",
       "      <td>Yes</td>\n",
       "      <td>No</td>\n",
       "      <td>Classical</td>\n",
       "      <td>No</td>\n",
       "      <td>No</td>\n",
       "      <td>170.0</td>\n",
       "      <td>2.0</td>\n",
       "      <td>3.0</td>\n",
       "      <td>2.0</td>\n",
       "      <td>1.0</td>\n",
       "      <td>Improve</td>\n",
       "    </tr>\n",
       "    <tr>\n",
       "      <th>735</th>\n",
       "      <td>29.0</td>\n",
       "      <td>YouTube Music</td>\n",
       "      <td>2.0</td>\n",
       "      <td>No</td>\n",
       "      <td>No</td>\n",
       "      <td>Hip hop</td>\n",
       "      <td>Yes</td>\n",
       "      <td>Yes</td>\n",
       "      <td>98.0</td>\n",
       "      <td>2.0</td>\n",
       "      <td>2.0</td>\n",
       "      <td>2.0</td>\n",
       "      <td>5.0</td>\n",
       "      <td>Improve</td>\n",
       "    </tr>\n",
       "  </tbody>\n",
       "</table>\n",
       "<p>622 rows × 14 columns</p>\n",
       "</div>"
      ],
      "text/plain": [
       "      Age Primary streaming service  Hours per day Instrumentalist Composer  \\\n",
       "0    18.0                   Spotify            3.0             Yes      Yes   \n",
       "1    63.0                   Pandora            1.5              No       No   \n",
       "2    18.0                   Spotify            4.0              No       No   \n",
       "3    61.0             YouTube Music            2.5              No      Yes   \n",
       "4    18.0                   Spotify            4.0              No       No   \n",
       "..    ...                       ...            ...             ...      ...   \n",
       "731  17.0                   Spotify            2.0             Yes       No   \n",
       "732  18.0                   Spotify            1.0             Yes       No   \n",
       "733  19.0   Other streaming service            6.0              No      Yes   \n",
       "734  19.0                   Spotify            5.0             Yes       No   \n",
       "735  29.0             YouTube Music            2.0              No       No   \n",
       "\n",
       "            Fav genre Exploratory Foreign languages    BPM  Anxiety  \\\n",
       "0               Latin         Yes               Yes  156.0      3.0   \n",
       "1                Rock         Yes                No  119.0      7.0   \n",
       "2    Video game music          No               Yes  132.0      7.0   \n",
       "3                Jazz         Yes               Yes   84.0      9.0   \n",
       "4                 R&B         Yes                No  107.0      7.0   \n",
       "..                ...         ...               ...    ...      ...   \n",
       "731              Rock         Yes               Yes  120.0      7.0   \n",
       "732               Pop         Yes               Yes  160.0      3.0   \n",
       "733               Rap         Yes                No  120.0      2.0   \n",
       "734         Classical          No                No  170.0      2.0   \n",
       "735           Hip hop         Yes               Yes   98.0      2.0   \n",
       "\n",
       "     Depression  Insomnia  OCD Music effects  \n",
       "0           0.0       1.0  0.0     No effect  \n",
       "1           2.0       2.0  1.0     No effect  \n",
       "2           7.0      10.0  2.0     No effect  \n",
       "3           7.0       3.0  3.0       Improve  \n",
       "4           2.0       5.0  9.0       Improve  \n",
       "..          ...       ...  ...           ...  \n",
       "731         6.0       0.0  9.0       Improve  \n",
       "732         2.0       2.0  5.0       Improve  \n",
       "733         2.0       2.0  2.0       Improve  \n",
       "734         3.0       2.0  1.0       Improve  \n",
       "735         2.0       2.0  5.0       Improve  \n",
       "\n",
       "[622 rows x 14 columns]"
      ]
     },
     "execution_count": 14,
     "metadata": {},
     "output_type": "execute_result"
    }
   ],
   "source": [
    "print(df.isnull().sum())\n",
    "df"
   ]
  },
  {
   "cell_type": "code",
   "execution_count": 15,
   "id": "730a63b7",
   "metadata": {},
   "outputs": [
    {
     "name": "stdout",
     "output_type": "stream",
     "text": [
      "stream service\n",
      " 6\n",
      "fave genre\n",
      " 16\n",
      "music effect\n",
      " 3\n"
     ]
    }
   ],
   "source": [
    "print(\"stream service\\n\", df['Primary streaming service'].unique().size)\n",
    "print(\"fave genre\\n\", df['Fav genre'].unique().size)\n",
    "print(\"music effect\\n\", df['Music effects'].unique().size)"
   ]
  },
  {
   "cell_type": "code",
   "execution_count": 16,
   "id": "82251cf6",
   "metadata": {},
   "outputs": [
    {
     "data": {
      "text/plain": [
       "Text(0.5, 1.0, 'Streaming platform by Age')"
      ]
     },
     "execution_count": 16,
     "metadata": {},
     "output_type": "execute_result"
    },
    {
     "data": {
      "image/png": "[encoded data removed]",
      "text/plain": [
       "<Figure size 432x288 with 1 Axes>"
      ]
     },
     "metadata": {
      "needs_background": "light"
     },
     "output_type": "display_data"
    }
   ],
   "source": [
    "s_colors = ['lightgreen', 'darkturquoise', 'lightcoral', 'steelblue', 'palevioletred', 'gold']\n",
    "\n",
    "bplot = sns.boxplot(data=df, x= \"Age\", y = \"Primary streaming service\",\n",
    "            showfliers = False,\n",
    "            palette = s_colors)\n",
    "\n",
    "plt.title('Streaming platform by Age')"
   ]
  },
  {
   "cell_type": "code",
   "execution_count": 17,
   "id": "ffd79bbd",
   "metadata": {},
   "outputs": [
    {
     "data": {
      "text/plain": [
       "<AxesSubplot:>"
      ]
     },
     "execution_count": 17,
     "metadata": {},
     "output_type": "execute_result"
    },
    {
     "data": {
      "image/png": "[encoded data removed]",
      "text/plain": [
       "<Figure size 432x288 with 2 Axes>"
      ]
     },
     "metadata": {
      "needs_background": "light"
     },
     "output_type": "display_data"
    }
   ],
   "source": [
    "df_corr = df.corr()\n",
    "\n",
    "sns.heatmap(df_corr, annot=True)"
   ]
  },
  {
   "cell_type": "code",
   "execution_count": 18,
   "id": "a6bd5b8e",
   "metadata": {},
   "outputs": [
    {
     "name": "stdout",
     "output_type": "stream",
     "text": [
      "     OCD  Hours per day\n",
      "0    0.0       3.484524\n",
      "1    1.0       3.274390\n",
      "2    2.0       3.382278\n",
      "3    3.0       3.800000\n",
      "4    4.0       3.971429\n",
      "5    5.0       3.953125\n",
      "6    6.0       3.000000\n",
      "7    6.0       4.379310\n",
      "8    7.0       4.107143\n",
      "9    8.0       5.500000\n",
      "10   8.0       4.000000\n",
      "11   9.0       2.727273\n",
      "12  10.0       4.558824\n"
     ]
    }
   ],
   "source": [
    "df_Anxiety = df.groupby(\"Anxiety\")[\"Hours per day\"].mean()\n",
    "df_Anxiety = df_Anxiety.reset_index()\n",
    "df_Anxiety['Anxiety'] = df_Anxiety['Anxiety'].round(decimals=0)\n",
    "\n",
    "df_Depression = df.groupby(\"Depression\")[\"Hours per day\"].mean()\n",
    "df_Depression = df_Depression.reset_index()\n",
    "df_Depression['Depression'] = df_Depression['Depression'].round(decimals=0)\n",
    "\n",
    "df_Insomnia = df.groupby(\"Insomnia\")[\"Hours per day\"].mean()\n",
    "df_Insomnia = df_Insomnia.reset_index()\n",
    "df_Insomnia['Insomnia'] = df_Insomnia['Insomnia'].round(decimals=0)\n",
    "\n",
    "df_OCD = df.groupby(\"OCD\")[\"Hours per day\"].mean()\n",
    "df_OCD = df_OCD.reset_index()\n",
    "df_OCD['OCD'] = df_OCD['OCD'].round(decimals=0)\n",
    "\n",
    "print(df_OCD)"
   ]
  },
  {
   "cell_type": "code",
   "execution_count": 19,
   "id": "d22b930f",
   "metadata": {},
   "outputs": [
    {
     "data": {
      "image/png": "[encoded data removed]",
      "text/plain": [
       "<Figure size 1440x1080 with 4 Axes>"
      ]
     },
     "metadata": {
      "needs_background": "light"
     },
     "output_type": "display_data"
    }
   ],
   "source": [
    "fig, axs = plt.subplots(ncols = 2, nrows = 2, sharey = False, figsize=(20,15))\n",
    "axs[0,0].bar((df_Anxiety.Anxiety), df_Anxiety[\"Hours per day\"], edgecolor=\"red\")\n",
    "axs[0,0].set_title(\"Anxiety score per hours of listening\")\n",
    "axs[0,0].set_xlabel(\"Anxiety Ranking\")\n",
    "axs[0,0].set_ylabel(\"Hours per day\")\n",
    "\n",
    "axs[0,1].bar((df_Depression.Depression), df_Depression[\"Hours per day\"], edgecolor=\"red\")\n",
    "axs[0,1].set_title(\"Depression score per hours of listening\")\n",
    "axs[0,1].set_xlabel(\"Depression Ranking\")\n",
    "axs[0,1].set_ylabel(\"Hours per day\")\n",
    "\n",
    "axs[1,0].bar((df_Insomnia.Insomnia), df_Insomnia[\"Hours per day\"], edgecolor=\"red\")\n",
    "axs[1,0].set_title(\"Insomnia score per hours of listening\")\n",
    "axs[1,0].set_xlabel(\"Insomnia Ranking\")\n",
    "axs[1,0].set_ylabel(\"Hours per day\")\n",
    "\n",
    "axs[1,1].bar((df_OCD.OCD), df_OCD[\"Hours per day\"], edgecolor=\"red\")\n",
    "axs[1,1].set_title(\"OCD score per hours of listening\")\n",
    "axs[1,1].set_xlabel(\"OCD Ranking\")\n",
    "axs[1,1].set_ylabel(\"Hours per day\")\n",
    "\n",
    "plt.show()"
   ]
  },
  {
   "cell_type": "code",
   "execution_count": 20,
   "id": "9ab384e3",
   "metadata": {},
   "outputs": [],
   "source": [
    "df2 = df[[\"Hours per day\", \"Anxiety\"]]\n",
    "df3 = df[[\"Hours per day\", \"Depression\"]]\n",
    "df4 = df[[\"Hours per day\", \"Insomnia\"]]\n",
    "df5 = df[[\"Hours per day\", \"OCD\"]]"
   ]
  },
  {
   "cell_type": "code",
   "execution_count": 21,
   "id": "a54cc27d",
   "metadata": {},
   "outputs": [],
   "source": [
    "#anxiety_extreme = df2.loc[(df2['Anxiety'] > 8, ['Hours per day'])].mean()\n",
    "#depression_extreme = df3.loc[(df['Depression'] > 8)].mean()[1]\n",
    "#insomnia_extreme = df4.loc[(df['Insomnia'] > 8)].mean()[1]\n",
    "#ocd_extreme = df5.loc[(df['OCD'] > 8)].mean()[1]\n",
    "\n",
    "#extreme_means = [anxiety_extreme, depression_extreme, insomnia_extreme, ocd_extreme]\n",
    "\n",
    "#anxiety_lowExtreme = df2.loc[(df['Anxiety'] <= 2)].mean()[1]\n",
    "#depression_lowExtreme = df3.loc[(df['Depression'] <= 2)].mean()[1]\n",
    "#insomnia_lowExtreme = df4.loc[(df['Insomnia'] <= 2)].mean()[1]\n",
    "#ocd_lowExtreme = df5.loc[(df['OCD'] <= 2)].mean()[1]\n",
    "\n",
    "#lowExtreme_means = [anxiety_lowExtreme, depression_lowExtreme, insomnia_lowExtreme, ocd_lowExtreme]"
   ]
  },
  {
   "cell_type": "code",
   "execution_count": 22,
   "id": "ff792075",
   "metadata": {},
   "outputs": [],
   "source": [
    "anxiety_extreme = df2.loc[(df2['Anxiety'] >= 9)]\n",
    "anxiety_extreme = anxiety_extreme['Hours per day'].mean()\n",
    "\n",
    "depression_extreme = df3.loc[(df3['Depression'] >= 9)].mean()\n",
    "depression_extreme = depression_extreme['Hours per day'].mean()\n",
    "\n",
    "insomnia_extreme = df4.loc[(df4['Insomnia'] >= 9)].mean()\n",
    "insomnia_extreme = insomnia_extreme['Hours per day'].mean()\n",
    "\n",
    "ocd_extreme = df5.loc[(df5['OCD'] >= 9)].mean()\n",
    "ocd_extreme = ocd_extreme['Hours per day'].mean()\n",
    "\n",
    "extreme_means = [anxiety_extreme, depression_extreme, insomnia_extreme, ocd_extreme]\n",
    "\n",
    "anxiety_lowExtreme = df2.loc[(df2['Anxiety'] <= 2)]\n",
    "anxiety_lowExtreme = anxiety_lowExtreme['Hours per day'].mean()\n",
    "\n",
    "depression_lowExtreme = df3.loc[(df3['Depression'] <= 2)].mean()\n",
    "depression_lowExtreme = depression_lowExtreme['Hours per day'].mean()\n",
    "\n",
    "insomnia_lowExtreme = df4.loc[(df4['Insomnia'] <= 2)].mean()\n",
    "insomnia_lowExtreme = insomnia_lowExtreme['Hours per day'].mean()\n",
    "\n",
    "ocd_lowExtreme = df5.loc[(df5['OCD'] <= 2)].mean()\n",
    "ocd_lowExtreme = ocd_lowExtreme['Hours per day'].mean()\n",
    "\n",
    "lowExtreme_means = [anxiety_lowExtreme, depression_lowExtreme, insomnia_lowExtreme, ocd_lowExtreme]"
   ]
  },
  {
   "cell_type": "code",
   "execution_count": 23,
   "id": "099d1b75",
   "metadata": {},
   "outputs": [
    {
     "name": "stdout",
     "output_type": "stream",
     "text": [
      "anxiety\n",
      " 4.139423076923077\n",
      "depression\n",
      " 4.592465753424658\n",
      "insomnia\n",
      " 5.052884615384615\n",
      "ocd\n",
      " 3.8392857142857144\n"
     ]
    }
   ],
   "source": [
    "print(\"anxiety\\n\",anxiety_extreme)\n",
    "print(\"depression\\n\",depression_extreme)\n",
    "print(\"insomnia\\n\",insomnia_extreme)\n",
    "print(\"ocd\\n\",ocd_extreme)"
   ]
  },
  {
   "cell_type": "code",
   "execution_count": 24,
   "id": "ec3a2f37",
   "metadata": {},
   "outputs": [
    {
     "data": {
      "image/png": "[encoded data removed]",
      "text/plain": [
       "<Figure size 1080x576 with 2 Axes>"
      ]
     },
     "metadata": {
      "needs_background": "light"
     },
     "output_type": "display_data"
    }
   ],
   "source": [
    "mentalDisorder_labels = [\"Anxiety\", \"Depression\", \"Insomnia\", \"OCD\"]\n",
    "\n",
    "#plt.bar(mentalDisorder_labels, extreme_means, color = ('black', 'red', 'green', 'blue'))\n",
    "\n",
    "fig, axs = plt.subplots(ncols = 2, nrows = 1, sharey = False, figsize=(15,8))\n",
    "\n",
    "axs[0].bar(mentalDisorder_labels, extreme_means, color = ('black', 'red', 'green', 'blue'))\n",
    "\n",
    "axs[1].bar(mentalDisorder_labels, lowExtreme_means, color = ('black', 'red', 'green', 'blue'))\n",
    "\n",
    "axs[0].set_ylabel(\"Avg hours listened\")\n",
    "axs[0].set_xlabel(\"Disorder\")\n",
    "axs[0].set_ylim(0,5)\n",
    "axs[0].set_title(\"Avg listening time for individuals with high rankings\")\n",
    "\n",
    "axs[1].set_ylabel(\"Avg hours listened\")\n",
    "axs[1].set_ylim(0,5)\n",
    "axs[1].set_title(\"Avg listening time for individuals with low rankings\")\n",
    "\n",
    "plt.show()"
   ]
  },
  {
   "cell_type": "code",
   "execution_count": 25,
   "id": "f9d0b7ee",
   "metadata": {},
   "outputs": [],
   "source": [
    "df_musicEffects = df[\"Music effects\"]"
   ]
  },
  {
   "cell_type": "code",
   "execution_count": 26,
   "id": "8b3de383",
   "metadata": {},
   "outputs": [
    {
     "name": "stdout",
     "output_type": "stream",
     "text": [
      "\n",
      " 141\n",
      "\n",
      " 466\n",
      "15\n"
     ]
    }
   ],
   "source": [
    "noEffect = df_musicEffects[(df[\"Music effects\"]==\"No effect\")].count()\n",
    "imprv = df_musicEffects[(df[\"Music effects\"]==\"Improve\")].count()\n",
    "wrsn = df_musicEffects[(df[\"Music effects\"]==\"Worsen\")].count()\n",
    "\n",
    "print(\"\\n\",noEffect)\n",
    "print(\"\\n\",imprv)\n",
    "print(wrsn)"
   ]
  },
  {
   "cell_type": "code",
   "execution_count": 27,
   "id": "02218b8d",
   "metadata": {},
   "outputs": [
    {
     "name": "stdout",
     "output_type": "stream",
     "text": [
      "\n",
      " 0    No effect\n",
      "1      improve\n",
      "2       Worsen\n",
      "dtype: object\n",
      "\n",
      " 0    141\n",
      "1    466\n",
      "2     15\n",
      "dtype: int64\n"
     ]
    }
   ],
   "source": [
    "df_musicEffects = pd.Series([\"No effect\", \"improve\", \"Worsen\"])\n",
    "df_effectCounts = pd.Series([noEffect, imprv, wrsn])\n",
    "\n",
    "print(\"\\n\",df_musicEffects)\n",
    "print(\"\\n\",df_effectCounts)"
   ]
  },
  {
   "cell_type": "code",
   "execution_count": 28,
   "id": "f5c82e39",
   "metadata": {},
   "outputs": [
    {
     "name": "stdout",
     "output_type": "stream",
     "text": [
      "           Counts\n",
      "0                \n",
      "No effect     141\n",
      "improve       466\n",
      "Worsen         15\n"
     ]
    }
   ],
   "source": [
    "df_piechart = pd.concat([df_musicEffects, df_effectCounts], axis=1)\n",
    "df_piechart = df_piechart.set_index(0)\n",
    "df_piechart.columns = ['Counts']\n",
    "print(df_piechart)"
   ]
  },
  {
   "cell_type": "code",
   "execution_count": 29,
   "id": "12f3a73e",
   "metadata": {},
   "outputs": [
    {
     "data": {
      "image/png": "[encoded data removed]",
      "text/plain": [
       "<Figure size 432x432 with 1 Axes>"
      ]
     },
     "metadata": {},
     "output_type": "display_data"
    }
   ],
   "source": [
    "pieChart = df_piechart.plot.pie(y=\"Counts\", figsize=(6,6))"
   ]
  },
  {
   "cell_type": "code",
   "execution_count": 30,
   "id": "11b0f46c",
   "metadata": {},
   "outputs": [
    {
     "name": "stdout",
     "output_type": "stream",
     "text": [
      "\n",
      "            Fav genre   Anxiety  Depression  Insomnia       OCD  Counts\n",
      "0          Classical  5.052632    4.368421  4.000000  2.447368      38\n",
      "1            Country  5.700000    4.100000  2.600000  2.600000      20\n",
      "2                EDM  5.361111    5.111111  3.944444  2.888889      36\n",
      "3               Folk  6.500000    5.192308  3.923077  2.461538      26\n",
      "4             Gospel  5.500000    3.500000  6.000000  0.500000       4\n",
      "5            Hip hop  6.312500    6.093750  3.656250  2.656250      32\n",
      "6               Jazz  5.684211    4.578947  4.052632  2.421053      19\n",
      "7              K pop  6.458333    4.291667  3.458333  2.458333      24\n",
      "8              Latin  4.333333    3.000000  3.333333  1.666667       3\n",
      "9               Lofi  6.100000    6.600000  5.600000  3.400000      10\n",
      "10             Metal  5.545455    5.194805  4.519481  2.272727      77\n",
      "11               Pop  6.077320    4.407216  3.257732  2.943299      97\n",
      "12               R&B  5.300000    4.166667  2.833333  2.666667      30\n",
      "13               Rap  5.000000    3.750000  2.100000  3.150000      20\n",
      "14              Rock  6.140000    5.356667  3.923333  2.683333     150\n",
      "15  Video game music  6.388889    4.694444  4.638889  2.666667      36\n"
     ]
    },
    {
     "name": "stderr",
     "output_type": "stream",
     "text": [
      "C:\\Users\\Leftis\\AppData\\Local\\Temp\\ipykernel_2804\\2544469894.py:2: FutureWarning: Indexing with multiple keys (implicitly converted to a tuple of keys) will be deprecated, use a list instead.\n",
      "  df_groupGenre = df_genre.groupby(\"Fav genre\")[\"Anxiety\",\"Depression\",\"Insomnia\", \"OCD\"].mean()\n"
     ]
    }
   ],
   "source": [
    "df_genre = df[[\"Fav genre\", \"Anxiety\", \"Depression\", \"Insomnia\", \"OCD\"]]\n",
    "df_groupGenre = df_genre.groupby(\"Fav genre\")[\"Anxiety\",\"Depression\",\"Insomnia\", \"OCD\"].mean()\n",
    "df_groupGenre2 = df_genre.groupby(\"Fav genre\")[\"Anxiety\"].count()\n",
    "df_groupGenre[\"Counts\"] = df_groupGenre2\n",
    "\n",
    "df_groupGenre = df_groupGenre.reset_index()\n",
    "\n",
    "genres = pd.DataFrame(df_genre[\"Fav genre\"].unique())\n",
    "\n",
    "#print(\"\\n\",genres)\n",
    "print(\"\\n\",df_groupGenre)\n",
    "#print(df_groupGenre2)"
   ]
  },
  {
   "cell_type": "code",
   "execution_count": 31,
   "id": "001e7958",
   "metadata": {},
   "outputs": [],
   "source": [
    "favGenre = df_groupGenre['Fav genre'].squeeze()\n",
    "anxietyGenre = df_groupGenre['Anxiety'].squeeze()\n",
    "depressionGenre = df_groupGenre['Depression'].squeeze()\n",
    "insomniaGenre = df_groupGenre['Insomnia'].squeeze()\n",
    "ocdGenre = df_groupGenre['OCD'].squeeze()\n",
    "countGenre = df_groupGenre['Counts'].squeeze()"
   ]
  },
  {
   "cell_type": "code",
   "execution_count": 32,
   "id": "2a5a5a4e",
   "metadata": {},
   "outputs": [],
   "source": [
    "#print(countGenre[15])"
   ]
  },
  {
   "cell_type": "code",
   "execution_count": 33,
   "id": "41e34b7d",
   "metadata": {},
   "outputs": [
    {
     "data": {
      "image/png": "[encoded data removed]",
      "text/plain": [
       "<Figure size 1080x576 with 1 Axes>"
      ]
     },
     "metadata": {
      "needs_background": "light"
     },
     "output_type": "display_data"
    }
   ],
   "source": [
    "x = np.arange(len(favGenre))  # the label locations\n",
    "width = 0.20  # the width of the bars\n",
    "\n",
    "fig, ax = plt.subplots(figsize=(15,8))\n",
    "rectsAnxiety = ax.bar(x - 0.4, anxietyGenre, width, label='Anxiety')\n",
    "rectsDepression = ax.bar(x - 0.2, depressionGenre, width, label='Depression')\n",
    "rectsInsomnia = ax.bar(x, insomniaGenre, width, label='Insomnia')\n",
    "rectsOCD = ax.bar(x + 0.2, ocdGenre, width, label='OCD')\n",
    "\n",
    "ax.set_ylabel('AVG RANK')\n",
    "ax.set_title('Average Ranking of Mental Disorders per Genre')\n",
    "ax.set_xticks(x, favGenre)\n",
    "ax.legend()\n",
    "\n",
    "#for tick in ax.get_xticklabels():\n",
    "#   tick.set_rotation(30)\n",
    "\n",
    "fig.tight_layout()\n",
    "\n",
    "plt.show()"
   ]
  },
  {
   "cell_type": "code",
   "execution_count": 34,
   "id": "517be841",
   "metadata": {},
   "outputs": [
    {
     "name": "stdout",
     "output_type": "stream",
     "text": [
      "low anxiety:  Classical\n",
      "Latin\n",
      "Rock\n",
      "Latin\n",
      "high anxiety:  Rap\n",
      "Rap\n",
      "Video game music\n",
      "Rock\n"
     ]
    }
   ],
   "source": [
    "low_anxiety = df.loc[df['Anxiety'].idxmin()]['Fav genre']\n",
    "print(\"low anxiety: \", low_anxiety)\n",
    "\n",
    "low_depression = df.loc[df['Depression'].idxmin()]['Fav genre']\n",
    "print(low_depression)\n",
    "\n",
    "low_insomnia = df.loc[df['Insomnia'].idxmin()]['Fav genre']\n",
    "print(low_insomnia)\n",
    "\n",
    "low_ocd = df.loc[df['OCD'].idxmin()]['Fav genre']\n",
    "print(low_ocd)\n",
    "\n",
    "high_anxiety = df.loc[df['Anxiety'].idxmax()]['Fav genre']\n",
    "print(\"high anxiety: \", high_anxiety)\n",
    "\n",
    "high_depression = df.loc[df['Depression'].idxmax()]['Fav genre']\n",
    "print(high_depression)\n",
    "\n",
    "high_insomnia = df.loc[df['Insomnia'].idxmax()]['Fav genre']\n",
    "print(high_insomnia)\n",
    "\n",
    "high_ocd =  df.loc[df['OCD'].idxmax()]['Fav genre']\n",
    "print(high_ocd)"
   ]
  },
  {
   "cell_type": "markdown",
   "id": "3123c6fb",
   "metadata": {},
   "source": [
    "## lowest/highest average"
   ]
  },
  {
   "cell_type": "code",
   "execution_count": 35,
   "id": "af48da8c",
   "metadata": {},
   "outputs": [
    {
     "name": "stdout",
     "output_type": "stream",
     "text": [
      "low anxiety:  Latin\n",
      "Latin\n",
      "Rap\n",
      "Gospel\n",
      "high anxiety:  Folk\n",
      "Lofi\n",
      "Gospel\n",
      "Lofi\n"
     ]
    },
    {
     "name": "stderr",
     "output_type": "stream",
     "text": [
      "C:\\Users\\Leftis\\AppData\\Local\\Temp\\ipykernel_2804\\2624504853.py:3: FutureWarning: Indexing with multiple keys (implicitly converted to a tuple of keys) will be deprecated, use a list instead.\n",
      "  df_genre_mean = df_genre_mean.groupby(\"Fav genre\")[\"Anxiety\",\"Depression\",\"Insomnia\", \"OCD\"].mean()\n"
     ]
    }
   ],
   "source": [
    "df_genre_mean = df[[\"Fav genre\",\"Anxiety\",\"Depression\",\"Insomnia\",\"OCD\"]]\n",
    "\n",
    "df_genre_mean = df_genre_mean.groupby(\"Fav genre\")[\"Anxiety\",\"Depression\",\"Insomnia\", \"OCD\"].mean()\n",
    "\n",
    "df_genre_mean = df_genre_mean.reset_index()\n",
    "\n",
    "low_anxietyM = df_genre_mean.loc[df_genre_mean['Anxiety'].idxmin()]['Fav genre']\n",
    "print(\"low anxiety: \", low_anxietyM)\n",
    "\n",
    "low_depressionM = df_genre_mean.loc[df_genre_mean['Depression'].idxmin()]['Fav genre']\n",
    "print(low_depressionM)\n",
    "\n",
    "low_insomniaM = df_genre_mean.loc[df_genre_mean['Insomnia'].idxmin()]['Fav genre']\n",
    "print(low_insomniaM)\n",
    "\n",
    "low_ocdM = df_genre_mean.loc[df_genre_mean['OCD'].idxmin()]['Fav genre']\n",
    "print(low_ocdM)\n",
    "\n",
    "high_anxietyM = df_genre_mean.loc[df_genre_mean['Anxiety'].idxmax()]['Fav genre']\n",
    "print(\"high anxiety: \", high_anxietyM)\n",
    "\n",
    "high_depressionM = df_genre_mean.loc[df_genre_mean['Depression'].idxmax()]['Fav genre']\n",
    "print(high_depressionM)\n",
    "\n",
    "high_insomniaM = df_genre_mean.loc[df_genre_mean['Insomnia'].idxmax()]['Fav genre']\n",
    "print(high_insomniaM)\n",
    "\n",
    "high_ocdM =  df_genre_mean.loc[df_genre_mean['OCD'].idxmax()]['Fav genre']\n",
    "print(high_ocdM)"
   ]
  },
  {
   "cell_type": "code",
   "execution_count": 36,
   "id": "b5e97ab0",
   "metadata": {},
   "outputs": [
    {
     "name": "stdout",
     "output_type": "stream",
     "text": [
      "    Fav genre  BPM  Hours per day\n",
      "0   Classical  114       2.835526\n",
      "1     Country  111       3.300000\n",
      "2         EDM  147       4.666667\n",
      "3        Folk  109       3.538462\n",
      "4      Gospel   89       3.250000\n",
      "5     Hip hop  111       3.953125\n",
      "6        Jazz  124       5.605263\n",
      "7       K pop  128       3.791667\n",
      "8       Latin  133       6.666667\n",
      "9        Lofi  114       4.200000\n",
      "10      Metal  139       3.707792\n",
      "11        Pop  118       3.061856\n",
      "12        R&B  114       3.500000\n",
      "13        Rap  127       5.650000\n",
      "14       Rock  124       3.714667\n"
     ]
    },
    {
     "name": "stderr",
     "output_type": "stream",
     "text": [
      "C:\\Users\\Leftis\\AppData\\Local\\Temp\\ipykernel_2804\\3805334802.py:3: FutureWarning: Indexing with multiple keys (implicitly converted to a tuple of keys) will be deprecated, use a list instead.\n",
      "  df_genreBPM = df_genreBPM.groupby(\"Fav genre\")[\"BPM\",\"Hours per day\"].mean()\n"
     ]
    }
   ],
   "source": [
    "df_genreBPM = df[[\"Fav genre\",\"BPM\",\"Hours per day\"]]\n",
    "\n",
    "df_genreBPM = df_genreBPM.groupby(\"Fav genre\")[\"BPM\",\"Hours per day\"].mean()\n",
    "df_genreBPM = df_genreBPM.reset_index()\n",
    "\n",
    "df_genreBPM = df_genreBPM.astype({\"BPM\": int})\n",
    "\n",
    "df_genreBPM = df_genreBPM.iloc[:-1 , :]\n",
    "\n",
    "print(df_genreBPM)"
   ]
  },
  {
   "cell_type": "code",
   "execution_count": 37,
   "id": "fe05a6c5",
   "metadata": {},
   "outputs": [
    {
     "data": {
      "text/plain": [
       "Fav genre         object\n",
       "BPM                int32\n",
       "Hours per day    float64\n",
       "dtype: object"
      ]
     },
     "execution_count": 37,
     "metadata": {},
     "output_type": "execute_result"
    }
   ],
   "source": [
    "dtypess = df_genreBPM.dtypes\n",
    "dtypess"
   ]
  },
  {
   "cell_type": "code",
   "execution_count": 38,
   "id": "250b8014",
   "metadata": {},
   "outputs": [
    {
     "data": {
      "image/png": "[encoded data removed]",
      "text/plain": [
       "<Figure size 1080x720 with 2 Axes>"
      ]
     },
     "metadata": {
      "needs_background": "light"
     },
     "output_type": "display_data"
    }
   ],
   "source": [
    "fig, axs = plt.subplots(ncols=2, nrows=1, sharey=False, figsize=(15,10))\n",
    "\n",
    "#df_genreBPM = df_genreBPM.astype({\"BPM\": int, \"Hours per day\": int})\n",
    "\n",
    "#df_genreBPM[\"Fav genre\"] = df_genreBPM[\"Fav genre\"].astype('category')\n",
    "\n",
    "bpmS = df_genreBPM[\"BPM\"]\n",
    "\n",
    "genreS = df_genreBPM[\"Fav genre\"]\n",
    "\n",
    "axs[0].barh(genreS, bpmS, color = \"maroon\")\n",
    "axs[0].set_ylabel(\"Genre\")\n",
    "axs[0].set_xlabel(\"BPM\")\n",
    "\n",
    "sns.scatterplot(data=df_genreBPM, x=\"Fav genre\", y=\"BPM\", size=\"Hours per day\", legend=False, sizes=(10,100))\n",
    "\n",
    "plt.xticks(rotation=45)\n",
    "plt.show()"
   ]
  },
  {
   "cell_type": "code",
   "execution_count": 39,
   "id": "3338aa63",
   "metadata": {},
   "outputs": [
    {
     "data": {
      "text/plain": [
       "<AxesSubplot:ylabel='Fav genre'>"
      ]
     },
     "execution_count": 39,
     "metadata": {},
     "output_type": "execute_result"
    },
    {
     "data": {
      "image/png": "[encoded data removed]",
      "text/plain": [
       "<Figure size 432x288 with 2 Axes>"
      ]
     },
     "metadata": {
      "needs_background": "light"
     },
     "output_type": "display_data"
    }
   ],
   "source": [
    "df_groupGenre2 = df_groupGenre.set_index(\"Fav genre\")\n",
    "df_groupGenre2.head()\n",
    "df_normalised = (df_groupGenre2-df_groupGenre2.min())/(df_groupGenre2.max()-df_groupGenre2.min()) # normalisation\n",
    "df_normalised.head()\n",
    "\n",
    "sns.heatmap(df_normalised, annot=True)"
   ]
  },
  {
   "cell_type": "code",
   "execution_count": 40,
   "id": "9acf5d4f",
   "metadata": {},
   "outputs": [
    {
     "name": "stdout",
     "output_type": "stream",
     "text": [
      "      Age Primary streaming service  Hours per day Instrumentalist Composer  \\\n",
      "0    18.0                   Spotify            3.0             Yes      Yes   \n",
      "1    63.0                   Pandora            1.5              No       No   \n",
      "3    61.0             YouTube Music            2.5              No      Yes   \n",
      "4    18.0                   Spotify            4.0              No       No   \n",
      "5    18.0                   Spotify            5.0             Yes      Yes   \n",
      "..    ...                       ...            ...             ...      ...   \n",
      "731  17.0                   Spotify            2.0             Yes       No   \n",
      "732  18.0                   Spotify            1.0             Yes       No   \n",
      "733  19.0   Other streaming service            6.0              No      Yes   \n",
      "734  19.0                   Spotify            5.0             Yes       No   \n",
      "735  29.0             YouTube Music            2.0              No       No   \n",
      "\n",
      "     Fav genre Exploratory Foreign languages    BPM  Anxiety  Depression  \\\n",
      "0        Latin         Yes               Yes  156.0      3.0         0.0   \n",
      "1         Rock         Yes                No  119.0      7.0         2.0   \n",
      "3         Jazz         Yes               Yes   84.0      9.0         7.0   \n",
      "4          R&B         Yes                No  107.0      7.0         2.0   \n",
      "5         Jazz         Yes               Yes   86.0      8.0         8.0   \n",
      "..         ...         ...               ...    ...      ...         ...   \n",
      "731       Rock         Yes               Yes  120.0      7.0         6.0   \n",
      "732        Pop         Yes               Yes  160.0      3.0         2.0   \n",
      "733        Rap         Yes                No  120.0      2.0         2.0   \n",
      "734  Classical          No                No  170.0      2.0         3.0   \n",
      "735    Hip hop         Yes               Yes   98.0      2.0         2.0   \n",
      "\n",
      "     Insomnia  OCD Music effects  \n",
      "0         1.0  0.0     No effect  \n",
      "1         2.0  1.0     No effect  \n",
      "3         3.0  3.0       Improve  \n",
      "4         5.0  9.0       Improve  \n",
      "5         7.0  7.0       Improve  \n",
      "..        ...  ...           ...  \n",
      "731       0.0  9.0       Improve  \n",
      "732       2.0  5.0       Improve  \n",
      "733       2.0  2.0       Improve  \n",
      "734       2.0  1.0       Improve  \n",
      "735       2.0  5.0       Improve  \n",
      "\n",
      "[586 rows x 14 columns]\n"
     ]
    }
   ],
   "source": [
    "df_noVideo = df.drop(df[df['Fav genre']==\"Video game music\"].index)\n",
    "print(df_noVideo)"
   ]
  },
  {
   "cell_type": "code",
   "execution_count": 41,
   "id": "6fb36bee",
   "metadata": {},
   "outputs": [
    {
     "data": {
      "text/html": [
       "<div>\n",
       "<style scoped>\n",
       "    .dataframe tbody tr th:only-of-type {\n",
       "        vertical-align: middle;\n",
       "    }\n",
       "\n",
       "    .dataframe tbody tr th {\n",
       "        vertical-align: top;\n",
       "    }\n",
       "\n",
       "    .dataframe thead th {\n",
       "        text-align: right;\n",
       "    }\n",
       "</style>\n",
       "<table border=\"1\" class=\"dataframe\">\n",
       "  <thead>\n",
       "    <tr style=\"text-align: right;\">\n",
       "      <th></th>\n",
       "      <th>Age</th>\n",
       "      <th>BPM</th>\n",
       "      <th>Depression</th>\n",
       "      <th>Fav genre</th>\n",
       "    </tr>\n",
       "  </thead>\n",
       "  <tbody>\n",
       "    <tr>\n",
       "      <th>0</th>\n",
       "      <td>18.0</td>\n",
       "      <td>156.0</td>\n",
       "      <td>0.0</td>\n",
       "      <td>Latin</td>\n",
       "    </tr>\n",
       "    <tr>\n",
       "      <th>1</th>\n",
       "      <td>63.0</td>\n",
       "      <td>119.0</td>\n",
       "      <td>2.0</td>\n",
       "      <td>Rock</td>\n",
       "    </tr>\n",
       "    <tr>\n",
       "      <th>3</th>\n",
       "      <td>61.0</td>\n",
       "      <td>84.0</td>\n",
       "      <td>7.0</td>\n",
       "      <td>Jazz</td>\n",
       "    </tr>\n",
       "    <tr>\n",
       "      <th>4</th>\n",
       "      <td>18.0</td>\n",
       "      <td>107.0</td>\n",
       "      <td>2.0</td>\n",
       "      <td>R&amp;B</td>\n",
       "    </tr>\n",
       "    <tr>\n",
       "      <th>5</th>\n",
       "      <td>18.0</td>\n",
       "      <td>86.0</td>\n",
       "      <td>8.0</td>\n",
       "      <td>Jazz</td>\n",
       "    </tr>\n",
       "  </tbody>\n",
       "</table>\n",
       "</div>"
      ],
      "text/plain": [
       "    Age    BPM  Depression Fav genre\n",
       "0  18.0  156.0         0.0     Latin\n",
       "1  63.0  119.0         2.0      Rock\n",
       "3  61.0   84.0         7.0      Jazz\n",
       "4  18.0  107.0         2.0       R&B\n",
       "5  18.0   86.0         8.0      Jazz"
      ]
     },
     "execution_count": 41,
     "metadata": {},
     "output_type": "execute_result"
    }
   ],
   "source": [
    "df_cluster = df_noVideo[[\"Age\", \"BPM\", \"Depression\", \"Fav genre\"]]\n",
    "df_cluster.head()"
   ]
  },
  {
   "cell_type": "code",
   "execution_count": 42,
   "id": "f826cd49",
   "metadata": {},
   "outputs": [
    {
     "name": "stdout",
     "output_type": "stream",
     "text": [
      "      Age    BPM  Depression  Fav genre\n",
      "0    18.0  156.0         0.0          8\n",
      "1    63.0  119.0         2.0         14\n",
      "3    61.0   84.0         7.0          6\n",
      "4    18.0  107.0         2.0         12\n",
      "5    18.0   86.0         8.0          6\n",
      "..    ...    ...         ...        ...\n",
      "731  17.0  120.0         6.0         14\n",
      "732  18.0  160.0         2.0         11\n",
      "733  19.0  120.0         2.0         13\n",
      "734  19.0  170.0         3.0          0\n",
      "735  29.0   98.0         2.0          5\n",
      "\n",
      "[586 rows x 4 columns]\n"
     ]
    },
    {
     "name": "stderr",
     "output_type": "stream",
     "text": [
      "C:\\Users\\Leftis\\AppData\\Local\\Temp\\ipykernel_2804\\1387217631.py:3: SettingWithCopyWarning: \n",
      "A value is trying to be set on a copy of a slice from a DataFrame.\n",
      "Try using .loc[row_indexer,col_indexer] = value instead\n",
      "\n",
      "See the caveats in the documentation: https://pandas.pydata.org/pandas-docs/stable/user_guide/indexing.html#returning-a-view-versus-a-copy\n",
      "  df_cluster['Fav genre'] = df_cluster['Fav genre'].replace([\"Classical\",\"Country\",\"EDM\",\"Folk\",\"Gospel\",\"Hip hop\",\"Jazz\",\"K pop\",\"Latin\",\"Lofi\",\"Metal\",\"Pop\",\"R&B\",\"Rap\",\"Rock\",\"Video game music\"],\n"
     ]
    }
   ],
   "source": [
    "genre_mappings = pd.DataFrame([0,1,2,3,4,5,6,7,8,9,10,11,12,13,14,15])\n",
    "\n",
    "df_cluster['Fav genre'] = df_cluster['Fav genre'].replace([\"Classical\",\"Country\",\"EDM\",\"Folk\",\"Gospel\",\"Hip hop\",\"Jazz\",\"K pop\",\"Latin\",\"Lofi\",\"Metal\",\"Pop\",\"R&B\",\"Rap\",\"Rock\",\"Video game music\"],\n",
    "                                                          [0,1,2,3,4,5,6,7,8,9,10,11,12,13,14,15])\n",
    "\n",
    "print(df_cluster)"
   ]
  },
  {
   "cell_type": "code",
   "execution_count": 43,
   "id": "3b4cda53",
   "metadata": {},
   "outputs": [
    {
     "name": "stderr",
     "output_type": "stream",
     "text": [
      "C:\\Users\\Leftis\\AppData\\Local\\Temp\\ipykernel_2804\\3604372328.py:1: SettingWithCopyWarning: \n",
      "A value is trying to be set on a copy of a slice from a DataFrame.\n",
      "Try using .loc[row_indexer,col_indexer] = value instead\n",
      "\n",
      "See the caveats in the documentation: https://pandas.pydata.org/pandas-docs/stable/user_guide/indexing.html#returning-a-view-versus-a-copy\n",
      "  df_cluster[\"BPM\"] = (df_cluster[\"BPM\"]-df_cluster[\"BPM\"].min())/(df_cluster[\"BPM\"].max()-df_cluster[\"BPM\"].min()) # normalisation\n"
     ]
    },
    {
     "data": {
      "text/html": [
       "<div>\n",
       "<style scoped>\n",
       "    .dataframe tbody tr th:only-of-type {\n",
       "        vertical-align: middle;\n",
       "    }\n",
       "\n",
       "    .dataframe tbody tr th {\n",
       "        vertical-align: top;\n",
       "    }\n",
       "\n",
       "    .dataframe thead th {\n",
       "        text-align: right;\n",
       "    }\n",
       "</style>\n",
       "<table border=\"1\" class=\"dataframe\">\n",
       "  <thead>\n",
       "    <tr style=\"text-align: right;\">\n",
       "      <th></th>\n",
       "      <th>Age</th>\n",
       "      <th>BPM</th>\n",
       "      <th>Depression</th>\n",
       "      <th>Fav genre</th>\n",
       "    </tr>\n",
       "  </thead>\n",
       "  <tbody>\n",
       "    <tr>\n",
       "      <th>0</th>\n",
       "      <td>18.0</td>\n",
       "      <td>0.250000</td>\n",
       "      <td>0.0</td>\n",
       "      <td>8</td>\n",
       "    </tr>\n",
       "    <tr>\n",
       "      <th>1</th>\n",
       "      <td>63.0</td>\n",
       "      <td>0.190705</td>\n",
       "      <td>2.0</td>\n",
       "      <td>14</td>\n",
       "    </tr>\n",
       "    <tr>\n",
       "      <th>3</th>\n",
       "      <td>61.0</td>\n",
       "      <td>0.134615</td>\n",
       "      <td>7.0</td>\n",
       "      <td>6</td>\n",
       "    </tr>\n",
       "    <tr>\n",
       "      <th>4</th>\n",
       "      <td>18.0</td>\n",
       "      <td>0.171474</td>\n",
       "      <td>2.0</td>\n",
       "      <td>12</td>\n",
       "    </tr>\n",
       "    <tr>\n",
       "      <th>5</th>\n",
       "      <td>18.0</td>\n",
       "      <td>0.137821</td>\n",
       "      <td>8.0</td>\n",
       "      <td>6</td>\n",
       "    </tr>\n",
       "  </tbody>\n",
       "</table>\n",
       "</div>"
      ],
      "text/plain": [
       "    Age       BPM  Depression  Fav genre\n",
       "0  18.0  0.250000         0.0          8\n",
       "1  63.0  0.190705         2.0         14\n",
       "3  61.0  0.134615         7.0          6\n",
       "4  18.0  0.171474         2.0         12\n",
       "5  18.0  0.137821         8.0          6"
      ]
     },
     "execution_count": 43,
     "metadata": {},
     "output_type": "execute_result"
    }
   ],
   "source": [
    "df_cluster[\"BPM\"] = (df_cluster[\"BPM\"]-df_cluster[\"BPM\"].min())/(df_cluster[\"BPM\"].max()-df_cluster[\"BPM\"].min()) # normalisation\n",
    "df_cluster.head()"
   ]
  },
  {
   "cell_type": "code",
   "execution_count": 44,
   "id": "7b7e0db6",
   "metadata": {},
   "outputs": [
    {
     "data": {
      "image/png": "[encoded data removed]",
      "text/plain": [
       "<Figure size 720x576 with 1 Axes>"
      ]
     },
     "metadata": {
      "needs_background": "light"
     },
     "output_type": "display_data"
    }
   ],
   "source": [
    "fig, ax = plt.subplots(figsize=(10,8))\n",
    "plt.scatter(x=df_cluster[\"Depression\"], y=df_cluster[\"BPM\"],\n",
    "            marker='o',s=50, \n",
    "            c=df_cluster[\"Fav genre\"].astype('category'))\n",
    "\n",
    "ax.set_xlabel(r'Depression rank', fontsize=12)\n",
    "ax.set_ylabel(r'Beats per minute', fontsize=12)\n",
    "\n",
    "plt.xticks(fontsize=10)\n",
    "plt.yticks(fontsize=10)\n",
    "\n",
    "plt.show()"
   ]
  },
  {
   "cell_type": "code",
   "execution_count": 64,
   "id": "624a6b80",
   "metadata": {},
   "outputs": [
    {
     "name": "stdout",
     "output_type": "stream",
     "text": [
      "      Age    BPM  Depression  Fav genre  Hours per day\n",
      "0    18.0  156.0         0.0          8            3.0\n",
      "1    63.0  119.0         2.0         14            1.5\n",
      "2    18.0  132.0         7.0         15            4.0\n",
      "3    61.0   84.0         7.0          6            2.5\n",
      "4    18.0  107.0         2.0         12            4.0\n",
      "..    ...    ...         ...        ...            ...\n",
      "731  17.0  120.0         6.0         14            2.0\n",
      "732  18.0  160.0         2.0         11            1.0\n",
      "733  19.0  120.0         2.0         13            6.0\n",
      "734  19.0  170.0         3.0          0            5.0\n",
      "735  29.0   98.0         2.0          5            2.0\n",
      "\n",
      "[622 rows x 5 columns]\n"
     ]
    },
    {
     "name": "stderr",
     "output_type": "stream",
     "text": [
      "C:\\Users\\Leftis\\AppData\\Local\\Temp\\ipykernel_2804\\2592010161.py:3: SettingWithCopyWarning: \n",
      "A value is trying to be set on a copy of a slice from a DataFrame.\n",
      "Try using .loc[row_indexer,col_indexer] = value instead\n",
      "\n",
      "See the caveats in the documentation: https://pandas.pydata.org/pandas-docs/stable/user_guide/indexing.html#returning-a-view-versus-a-copy\n",
      "  df_num['Fav genre'] = df['Fav genre'].replace([\"Classical\",\"Country\",\"EDM\",\"Folk\",\"Gospel\",\"Hip hop\",\"Jazz\",\"K pop\",\"Latin\",\"Lofi\",\"Metal\",\"Pop\",\"R&B\",\"Rap\",\"Rock\",\"Video game music\"],\n"
     ]
    },
    {
     "data": {
      "text/plain": [
       "Age                          float64\n",
       "Primary streaming service     object\n",
       "Hours per day                float64\n",
       "Instrumentalist               object\n",
       "Composer                      object\n",
       "Fav genre                     object\n",
       "Exploratory                   object\n",
       "Foreign languages             object\n",
       "BPM                          float64\n",
       "Anxiety                      float64\n",
       "Depression                   float64\n",
       "Insomnia                     float64\n",
       "OCD                          float64\n",
       "Music effects                 object\n",
       "dtype: object"
      ]
     },
     "execution_count": 64,
     "metadata": {},
     "output_type": "execute_result"
    }
   ],
   "source": [
    "df_num = df[[\"Age\", \"BPM\", \"Depression\", \"Fav genre\", \"Hours per day\"]]\n",
    "\n",
    "df_num['Fav genre'] = df['Fav genre'].replace([\"Classical\",\"Country\",\"EDM\",\"Folk\",\"Gospel\",\"Hip hop\",\"Jazz\",\"K pop\",\"Latin\",\"Lofi\",\"Metal\",\"Pop\",\"R&B\",\"Rap\",\"Rock\",\"Video game music\"],\n",
    "                                                          [0,1,2,3,4,5,6,7,8,9,10,11,12,13,14,15])\n",
    "\n",
    "print(df_num)\n",
    "\n",
    "dftypes=df.dtypes\n",
    "dftypes"
   ]
  },
  {
   "cell_type": "code",
   "execution_count": 65,
   "id": "249aa8fe",
   "metadata": {},
   "outputs": [
    {
     "name": "stderr",
     "output_type": "stream",
     "text": [
      "C:\\Users\\Leftis\\AppData\\Local\\Temp\\ipykernel_2804\\218698590.py:2: SettingWithCopyWarning: \n",
      "A value is trying to be set on a copy of a slice from a DataFrame.\n",
      "Try using .loc[row_indexer,col_indexer] = value instead\n",
      "\n",
      "See the caveats in the documentation: https://pandas.pydata.org/pandas-docs/stable/user_guide/indexing.html#returning-a-view-versus-a-copy\n",
      "  df_features[\"Hours per day\"] = df_num[\"Hours per day\"]\n"
     ]
    }
   ],
   "source": [
    "df_features = df_num[[\"Age\", \"Fav genre\", \"BPM\"]]\n",
    "df_features[\"Hours per day\"] = df_num[\"Hours per day\"]\n",
    "df_target = df[\"Depression\"]"
   ]
  },
  {
   "cell_type": "code",
   "execution_count": 66,
   "id": "58de9091",
   "metadata": {},
   "outputs": [],
   "source": [
    "from sklearn.linear_model import LinearRegression\n",
    "from sklearn.model_selection import train_test_split\n",
    "#import sklearn.metrics as sm\n",
    "import statsmodels.api as sm"
   ]
  },
  {
   "cell_type": "code",
   "execution_count": 67,
   "id": "1f16098e",
   "metadata": {},
   "outputs": [],
   "source": [
    "X_train, X_test, y_train, y_test = train_test_split(df_num, df_target, test_size=0.3, random_state=42)"
   ]
  },
  {
   "cell_type": "code",
   "execution_count": 68,
   "id": "9be68787",
   "metadata": {},
   "outputs": [
    {
     "data": {
      "text/html": [
       "<table class=\"simpletable\">\n",
       "<caption>OLS Regression Results</caption>\n",
       "<tr>\n",
       "  <th>Dep. Variable:</th>       <td>Depression</td>    <th>  R-squared (uncentered):</th>       <td>   1.000</td> \n",
       "</tr>\n",
       "<tr>\n",
       "  <th>Model:</th>                   <td>OLS</td>       <th>  Adj. R-squared (uncentered):</th>  <td>   1.000</td> \n",
       "</tr>\n",
       "<tr>\n",
       "  <th>Method:</th>             <td>Least Squares</td>  <th>  F-statistic:       </th>           <td>7.216e+23</td>\n",
       "</tr>\n",
       "<tr>\n",
       "  <th>Date:</th>             <td>Tue, 10 Jan 2023</td> <th>  Prob (F-statistic):</th>            <td>  0.00</td>  \n",
       "</tr>\n",
       "<tr>\n",
       "  <th>Time:</th>                 <td>12:09:07</td>     <th>  Log-Likelihood:    </th>           <td>  9598.4</td> \n",
       "</tr>\n",
       "<tr>\n",
       "  <th>No. Observations:</th>      <td>   435</td>      <th>  AIC:               </th>          <td>-1.919e+04</td>\n",
       "</tr>\n",
       "<tr>\n",
       "  <th>Df Residuals:</th>          <td>   430</td>      <th>  BIC:               </th>          <td>-1.917e+04</td>\n",
       "</tr>\n",
       "<tr>\n",
       "  <th>Df Model:</th>              <td>     5</td>      <th>                     </th>               <td> </td>    \n",
       "</tr>\n",
       "<tr>\n",
       "  <th>Covariance Type:</th>      <td>nonrobust</td>    <th>                     </th>               <td> </td>    \n",
       "</tr>\n",
       "</table>\n",
       "<table class=\"simpletable\">\n",
       "<tr>\n",
       "        <td></td>           <th>coef</th>     <th>std err</th>      <th>t</th>      <th>P>|t|</th>  <th>[0.025</th>    <th>0.975]</th>  \n",
       "</tr>\n",
       "<tr>\n",
       "  <th>Age</th>           <td> 6.072e-17</td> <td>    2e-13</td> <td>    0.000</td> <td> 1.000</td> <td>-3.94e-13</td> <td> 3.94e-13</td>\n",
       "</tr>\n",
       "<tr>\n",
       "  <th>BPM</th>           <td>-1.319e-18</td> <td> 6.39e-20</td> <td>  -20.629</td> <td> 0.000</td> <td>-1.44e-18</td> <td>-1.19e-18</td>\n",
       "</tr>\n",
       "<tr>\n",
       "  <th>Depression</th>    <td>    1.0000</td> <td> 9.34e-13</td> <td> 1.07e+12</td> <td> 0.000</td> <td>    1.000</td> <td>    1.000</td>\n",
       "</tr>\n",
       "<tr>\n",
       "  <th>Fav genre</th>     <td>-3.504e-16</td> <td> 5.38e-13</td> <td>   -0.001</td> <td> 0.999</td> <td>-1.06e-12</td> <td> 1.06e-12</td>\n",
       "</tr>\n",
       "<tr>\n",
       "  <th>Hours per day</th> <td>-3.469e-18</td> <td> 1.03e-12</td> <td>-3.38e-06</td> <td> 1.000</td> <td>-2.02e-12</td> <td> 2.02e-12</td>\n",
       "</tr>\n",
       "</table>\n",
       "<table class=\"simpletable\">\n",
       "<tr>\n",
       "  <th>Omnibus:</th>       <td>1051.434</td> <th>  Durbin-Watson:     </th>  <td>   2.000</td>  \n",
       "</tr>\n",
       "<tr>\n",
       "  <th>Prob(Omnibus):</th>  <td> 0.000</td>  <th>  Jarque-Bera (JB):  </th> <td>3382668.560</td>\n",
       "</tr>\n",
       "<tr>\n",
       "  <th>Skew:</th>           <td>20.785</td>  <th>  Prob(JB):          </th>  <td>    0.00</td>  \n",
       "</tr>\n",
       "<tr>\n",
       "  <th>Kurtosis:</th>       <td>433.002</td> <th>  Cond. No.          </th>  <td>1.80e+07</td>  \n",
       "</tr>\n",
       "</table><br/><br/>Notes:<br/>[1] R² is computed without centering (uncentered) since the model does not contain a constant.<br/>[2] Standard Errors assume that the covariance matrix of the errors is correctly specified.<br/>[3] The condition number is large, 1.8e+07. This might indicate that there are<br/>strong multicollinearity or other numerical problems."
      ],
      "text/plain": [
       "<class 'statsmodels.iolib.summary.Summary'>\n",
       "\"\"\"\n",
       "                                 OLS Regression Results                                \n",
       "=======================================================================================\n",
       "Dep. Variable:             Depression   R-squared (uncentered):                   1.000\n",
       "Model:                            OLS   Adj. R-squared (uncentered):              1.000\n",
       "Method:                 Least Squares   F-statistic:                          7.216e+23\n",
       "Date:                Tue, 10 Jan 2023   Prob (F-statistic):                        0.00\n",
       "Time:                        12:09:07   Log-Likelihood:                          9598.4\n",
       "No. Observations:                 435   AIC:                                 -1.919e+04\n",
       "Df Residuals:                     430   BIC:                                 -1.917e+04\n",
       "Df Model:                           5                                                  \n",
       "Covariance Type:            nonrobust                                                  \n",
       "=================================================================================\n",
       "                    coef    std err          t      P>|t|      [0.025      0.975]\n",
       "---------------------------------------------------------------------------------\n",
       "Age            6.072e-17      2e-13      0.000      1.000   -3.94e-13    3.94e-13\n",
       "BPM           -1.319e-18   6.39e-20    -20.629      0.000   -1.44e-18   -1.19e-18\n",
       "Depression        1.0000   9.34e-13   1.07e+12      0.000       1.000       1.000\n",
       "Fav genre     -3.504e-16   5.38e-13     -0.001      0.999   -1.06e-12    1.06e-12\n",
       "Hours per day -3.469e-18   1.03e-12  -3.38e-06      1.000   -2.02e-12    2.02e-12\n",
       "==============================================================================\n",
       "Omnibus:                     1051.434   Durbin-Watson:                   2.000\n",
       "Prob(Omnibus):                  0.000   Jarque-Bera (JB):          3382668.560\n",
       "Skew:                          20.785   Prob(JB):                         0.00\n",
       "Kurtosis:                     433.002   Cond. No.                     1.80e+07\n",
       "==============================================================================\n",
       "\n",
       "Notes:\n",
       "[1] R² is computed without centering (uncentered) since the model does not contain a constant.\n",
       "[2] Standard Errors assume that the covariance matrix of the errors is correctly specified.\n",
       "[3] The condition number is large, 1.8e+07. This might indicate that there are\n",
       "strong multicollinearity or other numerical problems.\n",
       "\"\"\""
      ]
     },
     "execution_count": 68,
     "metadata": {},
     "output_type": "execute_result"
    }
   ],
   "source": [
    "model = sm.OLS(y_train, X_train) ## build model\n",
    "model_score = model.fit()\n",
    "model_score.summary() ## model scores"
   ]
  },
  {
   "cell_type": "code",
   "execution_count": 69,
   "id": "cd5144d7",
   "metadata": {},
   "outputs": [
    {
     "data": {
      "image/png": "[encoded data removed]",
      "text/plain": [
       "<Figure size 432x288 with 1 Axes>"
      ]
     },
     "execution_count": 69,
     "metadata": {},
     "output_type": "execute_result"
    },
    {
     "data": {
      "image/png": "[encoded data removed]",
      "text/plain": [
       "<Figure size 432x288 with 1 Axes>"
      ]
     },
     "metadata": {
      "needs_background": "light"
     },
     "output_type": "display_data"
    }
   ],
   "source": [
    "sm.qqplot(model_score.resid, line='s')"
   ]
  },
  {
   "cell_type": "code",
   "execution_count": 70,
   "id": "1fc04ccb",
   "metadata": {},
   "outputs": [
    {
     "name": "stdout",
     "output_type": "stream",
     "text": [
      "296    4.0\n",
      "471    1.0\n",
      "205    9.0\n",
      "330    4.0\n",
      "123    5.0\n",
      "      ... \n",
      "393    5.0\n",
      "234    0.0\n",
      "99     7.0\n",
      "618    2.0\n",
      "130    6.0\n",
      "Name: Depression, Length: 187, dtype: float64\n",
      "      Age    BPM  Depression  Fav genre  Hours per day\n",
      "296  20.0  200.0         4.0         10            3.0\n",
      "471  28.0   72.0         1.0         14            1.0\n",
      "205  26.0  109.0         9.0         10            5.0\n",
      "330  22.0  140.0         4.0          2            3.0\n",
      "123  21.0  179.0         5.0         14            1.0\n",
      "..    ...    ...         ...        ...            ...\n",
      "393  13.0  126.0         5.0          0            4.0\n",
      "234  30.0   89.0         0.0          3            6.0\n",
      "99   15.0  193.0         7.0         14            8.0\n",
      "618  24.0  122.0         2.0          6            1.0\n",
      "130  29.0  110.0         6.0         15            1.0\n",
      "\n",
      "[187 rows x 5 columns]\n"
     ]
    }
   ],
   "source": [
    "print(y_test)\n",
    "print(X_test)"
   ]
  },
  {
   "cell_type": "code",
   "execution_count": 71,
   "id": "278fe3b3",
   "metadata": {},
   "outputs": [
    {
     "data": {
      "text/html": [
       "<div>\n",
       "<style scoped>\n",
       "    .dataframe tbody tr th:only-of-type {\n",
       "        vertical-align: middle;\n",
       "    }\n",
       "\n",
       "    .dataframe tbody tr th {\n",
       "        vertical-align: top;\n",
       "    }\n",
       "\n",
       "    .dataframe thead th {\n",
       "        text-align: right;\n",
       "    }\n",
       "</style>\n",
       "<table border=\"1\" class=\"dataframe\">\n",
       "  <thead>\n",
       "    <tr style=\"text-align: right;\">\n",
       "      <th></th>\n",
       "      <th>Actual</th>\n",
       "      <th>Predicted</th>\n",
       "    </tr>\n",
       "  </thead>\n",
       "  <tbody>\n",
       "    <tr>\n",
       "      <th>296</th>\n",
       "      <td>4.0</td>\n",
       "      <td>4.0</td>\n",
       "    </tr>\n",
       "    <tr>\n",
       "      <th>471</th>\n",
       "      <td>1.0</td>\n",
       "      <td>1.0</td>\n",
       "    </tr>\n",
       "    <tr>\n",
       "      <th>205</th>\n",
       "      <td>9.0</td>\n",
       "      <td>9.0</td>\n",
       "    </tr>\n",
       "    <tr>\n",
       "      <th>330</th>\n",
       "      <td>4.0</td>\n",
       "      <td>4.0</td>\n",
       "    </tr>\n",
       "    <tr>\n",
       "      <th>123</th>\n",
       "      <td>5.0</td>\n",
       "      <td>5.0</td>\n",
       "    </tr>\n",
       "  </tbody>\n",
       "</table>\n",
       "</div>"
      ],
      "text/plain": [
       "     Actual  Predicted\n",
       "296     4.0        4.0\n",
       "471     1.0        1.0\n",
       "205     9.0        9.0\n",
       "330     4.0        4.0\n",
       "123     5.0        5.0"
      ]
     },
     "execution_count": 71,
     "metadata": {},
     "output_type": "execute_result"
    }
   ],
   "source": [
    "predictions = model_score.predict(X_test)\n",
    "\n",
    "df_results = pd.DataFrame({'Actual':y_test, 'Predicted':predictions})\n",
    "\n",
    "df_results.head()"
   ]
  },
  {
   "cell_type": "code",
   "execution_count": 72,
   "id": "928fa08a",
   "metadata": {},
   "outputs": [
    {
     "data": {
      "image/png": "[encoded data removed]",
      "text/plain": [
       "<Figure size 360x360 with 1 Axes>"
      ]
     },
     "metadata": {
      "needs_background": "light"
     },
     "output_type": "display_data"
    }
   ],
   "source": [
    "sns.lmplot(x='Actual', y='Predicted', data=df_results, fit_reg=False)\n",
    "\n",
    "d_line= np.arange(df_results.min().min(), df_results.max().max())\n",
    "plt.plot(d_line, d_line, color='red', linestyle='--')\n",
    "plt.show()"
   ]
  },
  {
   "cell_type": "code",
   "execution_count": 73,
   "id": "fd74ddbf",
   "metadata": {},
   "outputs": [],
   "source": [
    "from sklearn.metrics import r2_score, mean_squared_error"
   ]
  },
  {
   "cell_type": "code",
   "execution_count": 74,
   "id": "aa3c8840",
   "metadata": {},
   "outputs": [
    {
     "name": "stdout",
     "output_type": "stream",
     "text": [
      "5.401899763194009e-15 1.0\n"
     ]
    }
   ],
   "source": [
    "RMSE = np.sqrt(mean_squared_error(y_test, predictions))\n",
    "r2 = r2_score(y_test, predictions)\n",
    "print(RMSE, r2)"
   ]
  },
  {
   "cell_type": "code",
   "execution_count": 75,
   "id": "4e95674f",
   "metadata": {},
   "outputs": [],
   "source": [
    "df_features1 = df_cluster[[\"Age\", \"Fav genre\", \"BPM\"]]\n",
    "df_features1[[\"Hours per day\", \"Composer\",\"Instrumentalist\", \"Exploratory\",\"Foreign languages\"]] = df[[\"Hours per day\", \"Composer\",\"Instrumentalist\",\"Exploratory\",\"Foreign languages\"]]\n",
    "df_target1 = df[\"Depression\"]"
   ]
  },
  {
   "cell_type": "code",
   "execution_count": 76,
   "id": "b39405b8",
   "metadata": {},
   "outputs": [
    {
     "data": {
      "text/html": [
       "<div>\n",
       "<style scoped>\n",
       "    .dataframe tbody tr th:only-of-type {\n",
       "        vertical-align: middle;\n",
       "    }\n",
       "\n",
       "    .dataframe tbody tr th {\n",
       "        vertical-align: top;\n",
       "    }\n",
       "\n",
       "    .dataframe thead th {\n",
       "        text-align: right;\n",
       "    }\n",
       "</style>\n",
       "<table border=\"1\" class=\"dataframe\">\n",
       "  <thead>\n",
       "    <tr style=\"text-align: right;\">\n",
       "      <th></th>\n",
       "      <th>Age</th>\n",
       "      <th>Fav genre</th>\n",
       "      <th>BPM</th>\n",
       "      <th>Hours per day</th>\n",
       "      <th>Composer</th>\n",
       "      <th>Instrumentalist</th>\n",
       "      <th>Exploratory</th>\n",
       "      <th>Foreign languages</th>\n",
       "    </tr>\n",
       "  </thead>\n",
       "  <tbody>\n",
       "    <tr>\n",
       "      <th>0</th>\n",
       "      <td>18.0</td>\n",
       "      <td>8</td>\n",
       "      <td>0.250000</td>\n",
       "      <td>3.0</td>\n",
       "      <td>Yes</td>\n",
       "      <td>Yes</td>\n",
       "      <td>Yes</td>\n",
       "      <td>Yes</td>\n",
       "    </tr>\n",
       "    <tr>\n",
       "      <th>1</th>\n",
       "      <td>63.0</td>\n",
       "      <td>14</td>\n",
       "      <td>0.190705</td>\n",
       "      <td>1.5</td>\n",
       "      <td>No</td>\n",
       "      <td>No</td>\n",
       "      <td>Yes</td>\n",
       "      <td>No</td>\n",
       "    </tr>\n",
       "    <tr>\n",
       "      <th>3</th>\n",
       "      <td>61.0</td>\n",
       "      <td>6</td>\n",
       "      <td>0.134615</td>\n",
       "      <td>2.5</td>\n",
       "      <td>Yes</td>\n",
       "      <td>No</td>\n",
       "      <td>Yes</td>\n",
       "      <td>Yes</td>\n",
       "    </tr>\n",
       "    <tr>\n",
       "      <th>4</th>\n",
       "      <td>18.0</td>\n",
       "      <td>12</td>\n",
       "      <td>0.171474</td>\n",
       "      <td>4.0</td>\n",
       "      <td>No</td>\n",
       "      <td>No</td>\n",
       "      <td>Yes</td>\n",
       "      <td>No</td>\n",
       "    </tr>\n",
       "    <tr>\n",
       "      <th>5</th>\n",
       "      <td>18.0</td>\n",
       "      <td>6</td>\n",
       "      <td>0.137821</td>\n",
       "      <td>5.0</td>\n",
       "      <td>Yes</td>\n",
       "      <td>Yes</td>\n",
       "      <td>Yes</td>\n",
       "      <td>Yes</td>\n",
       "    </tr>\n",
       "  </tbody>\n",
       "</table>\n",
       "</div>"
      ],
      "text/plain": [
       "    Age  Fav genre       BPM  Hours per day Composer Instrumentalist  \\\n",
       "0  18.0          8  0.250000            3.0      Yes             Yes   \n",
       "1  63.0         14  0.190705            1.5       No              No   \n",
       "3  61.0          6  0.134615            2.5      Yes              No   \n",
       "4  18.0         12  0.171474            4.0       No              No   \n",
       "5  18.0          6  0.137821            5.0      Yes             Yes   \n",
       "\n",
       "  Exploratory Foreign languages  \n",
       "0         Yes               Yes  \n",
       "1         Yes                No  \n",
       "3         Yes               Yes  \n",
       "4         Yes                No  \n",
       "5         Yes               Yes  "
      ]
     },
     "execution_count": 76,
     "metadata": {},
     "output_type": "execute_result"
    }
   ],
   "source": [
    "df_features1.head()"
   ]
  },
  {
   "cell_type": "code",
   "execution_count": 77,
   "id": "457bee69",
   "metadata": {},
   "outputs": [],
   "source": [
    "X_train, X_test, y_train, y_test = train_test_split(df_features, df_target, test_size=0.3, random_state=42)"
   ]
  },
  {
   "cell_type": "code",
   "execution_count": 78,
   "id": "42a101e9",
   "metadata": {},
   "outputs": [
    {
     "data": {
      "text/html": [
       "<table class=\"simpletable\">\n",
       "<caption>OLS Regression Results</caption>\n",
       "<tr>\n",
       "  <th>Dep. Variable:</th>       <td>Depression</td>    <th>  R-squared (uncentered):</th>      <td>   0.682</td> \n",
       "</tr>\n",
       "<tr>\n",
       "  <th>Model:</th>                   <td>OLS</td>       <th>  Adj. R-squared (uncentered):</th> <td>   0.679</td> \n",
       "</tr>\n",
       "<tr>\n",
       "  <th>Method:</th>             <td>Least Squares</td>  <th>  F-statistic:       </th>          <td>   231.2</td> \n",
       "</tr>\n",
       "<tr>\n",
       "  <th>Date:</th>             <td>Tue, 10 Jan 2023</td> <th>  Prob (F-statistic):</th>          <td>8.13e-106</td>\n",
       "</tr>\n",
       "<tr>\n",
       "  <th>Time:</th>                 <td>12:09:53</td>     <th>  Log-Likelihood:    </th>          <td> -1132.0</td> \n",
       "</tr>\n",
       "<tr>\n",
       "  <th>No. Observations:</th>      <td>   435</td>      <th>  AIC:               </th>          <td>   2272.</td> \n",
       "</tr>\n",
       "<tr>\n",
       "  <th>Df Residuals:</th>          <td>   431</td>      <th>  BIC:               </th>          <td>   2288.</td> \n",
       "</tr>\n",
       "<tr>\n",
       "  <th>Df Model:</th>              <td>     4</td>      <th>                     </th>              <td> </td>    \n",
       "</tr>\n",
       "<tr>\n",
       "  <th>Covariance Type:</th>      <td>nonrobust</td>    <th>                     </th>              <td> </td>    \n",
       "</tr>\n",
       "</table>\n",
       "<table class=\"simpletable\">\n",
       "<tr>\n",
       "        <td></td>           <th>coef</th>     <th>std err</th>      <th>t</th>      <th>P>|t|</th>  <th>[0.025</th>    <th>0.975]</th>  \n",
       "</tr>\n",
       "<tr>\n",
       "  <th>Age</th>           <td>    0.0581</td> <td>    0.010</td> <td>    5.837</td> <td> 0.000</td> <td>    0.039</td> <td>    0.078</td>\n",
       "</tr>\n",
       "<tr>\n",
       "  <th>Fav genre</th>     <td>    0.1815</td> <td>    0.026</td> <td>    6.896</td> <td> 0.000</td> <td>    0.130</td> <td>    0.233</td>\n",
       "</tr>\n",
       "<tr>\n",
       "  <th>BPM</th>           <td> 1.667e-09</td> <td>  3.3e-09</td> <td>    0.506</td> <td> 0.613</td> <td>-4.81e-09</td> <td> 8.15e-09</td>\n",
       "</tr>\n",
       "<tr>\n",
       "  <th>Hours per day</th> <td>    0.3830</td> <td>    0.050</td> <td>    7.723</td> <td> 0.000</td> <td>    0.286</td> <td>    0.480</td>\n",
       "</tr>\n",
       "</table>\n",
       "<table class=\"simpletable\">\n",
       "<tr>\n",
       "  <th>Omnibus:</th>       <td>11.013</td> <th>  Durbin-Watson:     </th> <td>   1.982</td>\n",
       "</tr>\n",
       "<tr>\n",
       "  <th>Prob(Omnibus):</th> <td> 0.004</td> <th>  Jarque-Bera (JB):  </th> <td>  10.696</td>\n",
       "</tr>\n",
       "<tr>\n",
       "  <th>Skew:</th>          <td>-0.344</td> <th>  Prob(JB):          </th> <td> 0.00476</td>\n",
       "</tr>\n",
       "<tr>\n",
       "  <th>Kurtosis:</th>      <td> 2.659</td> <th>  Cond. No.          </th> <td>1.54e+07</td>\n",
       "</tr>\n",
       "</table><br/><br/>Notes:<br/>[1] R² is computed without centering (uncentered) since the model does not contain a constant.<br/>[2] Standard Errors assume that the covariance matrix of the errors is correctly specified.<br/>[3] The condition number is large, 1.54e+07. This might indicate that there are<br/>strong multicollinearity or other numerical problems."
      ],
      "text/plain": [
       "<class 'statsmodels.iolib.summary.Summary'>\n",
       "\"\"\"\n",
       "                                 OLS Regression Results                                \n",
       "=======================================================================================\n",
       "Dep. Variable:             Depression   R-squared (uncentered):                   0.682\n",
       "Model:                            OLS   Adj. R-squared (uncentered):              0.679\n",
       "Method:                 Least Squares   F-statistic:                              231.2\n",
       "Date:                Tue, 10 Jan 2023   Prob (F-statistic):                   8.13e-106\n",
       "Time:                        12:09:53   Log-Likelihood:                         -1132.0\n",
       "No. Observations:                 435   AIC:                                      2272.\n",
       "Df Residuals:                     431   BIC:                                      2288.\n",
       "Df Model:                           4                                                  \n",
       "Covariance Type:            nonrobust                                                  \n",
       "=================================================================================\n",
       "                    coef    std err          t      P>|t|      [0.025      0.975]\n",
       "---------------------------------------------------------------------------------\n",
       "Age               0.0581      0.010      5.837      0.000       0.039       0.078\n",
       "Fav genre         0.1815      0.026      6.896      0.000       0.130       0.233\n",
       "BPM            1.667e-09    3.3e-09      0.506      0.613   -4.81e-09    8.15e-09\n",
       "Hours per day     0.3830      0.050      7.723      0.000       0.286       0.480\n",
       "==============================================================================\n",
       "Omnibus:                       11.013   Durbin-Watson:                   1.982\n",
       "Prob(Omnibus):                  0.004   Jarque-Bera (JB):               10.696\n",
       "Skew:                          -0.344   Prob(JB):                      0.00476\n",
       "Kurtosis:                       2.659   Cond. No.                     1.54e+07\n",
       "==============================================================================\n",
       "\n",
       "Notes:\n",
       "[1] R² is computed without centering (uncentered) since the model does not contain a constant.\n",
       "[2] Standard Errors assume that the covariance matrix of the errors is correctly specified.\n",
       "[3] The condition number is large, 1.54e+07. This might indicate that there are\n",
       "strong multicollinearity or other numerical problems.\n",
       "\"\"\""
      ]
     },
     "execution_count": 78,
     "metadata": {},
     "output_type": "execute_result"
    }
   ],
   "source": [
    "model1 = sm.OLS(y_train, X_train) ## build model\n",
    "model1_score = model1.fit()\n",
    "model1_score.summary() ## model scores"
   ]
  },
  {
   "cell_type": "code",
   "execution_count": 79,
   "id": "7af56ecb",
   "metadata": {},
   "outputs": [
    {
     "data": {
      "image/png": "[encoded data removed]",
      "text/plain": [
       "<Figure size 432x288 with 1 Axes>"
      ]
     },
     "execution_count": 79,
     "metadata": {},
     "output_type": "execute_result"
    },
    {
     "data": {
      "image/png": "[encoded data removed]",
      "text/plain": [
       "<Figure size 432x288 with 1 Axes>"
      ]
     },
     "metadata": {
      "needs_background": "light"
     },
     "output_type": "display_data"
    }
   ],
   "source": [
    "sm.qqplot(model1_score.resid, line='s')"
   ]
  },
  {
   "cell_type": "code",
   "execution_count": 80,
   "id": "d77a17bb",
   "metadata": {},
   "outputs": [
    {
     "data": {
      "text/html": [
       "<div>\n",
       "<style scoped>\n",
       "    .dataframe tbody tr th:only-of-type {\n",
       "        vertical-align: middle;\n",
       "    }\n",
       "\n",
       "    .dataframe tbody tr th {\n",
       "        vertical-align: top;\n",
       "    }\n",
       "\n",
       "    .dataframe thead th {\n",
       "        text-align: right;\n",
       "    }\n",
       "</style>\n",
       "<table border=\"1\" class=\"dataframe\">\n",
       "  <thead>\n",
       "    <tr style=\"text-align: right;\">\n",
       "      <th></th>\n",
       "      <th>Actual</th>\n",
       "      <th>Predicted</th>\n",
       "    </tr>\n",
       "  </thead>\n",
       "  <tbody>\n",
       "    <tr>\n",
       "      <th>296</th>\n",
       "      <td>4.0</td>\n",
       "      <td>4.125815</td>\n",
       "    </tr>\n",
       "    <tr>\n",
       "      <th>471</th>\n",
       "      <td>1.0</td>\n",
       "      <td>4.550562</td>\n",
       "    </tr>\n",
       "    <tr>\n",
       "      <th>205</th>\n",
       "      <td>9.0</td>\n",
       "      <td>5.240428</td>\n",
       "    </tr>\n",
       "    <tr>\n",
       "      <th>330</th>\n",
       "      <td>4.0</td>\n",
       "      <td>2.790229</td>\n",
       "    </tr>\n",
       "    <tr>\n",
       "      <th>123</th>\n",
       "      <td>5.0</td>\n",
       "      <td>4.143831</td>\n",
       "    </tr>\n",
       "  </tbody>\n",
       "</table>\n",
       "</div>"
      ],
      "text/plain": [
       "     Actual  Predicted\n",
       "296     4.0   4.125815\n",
       "471     1.0   4.550562\n",
       "205     9.0   5.240428\n",
       "330     4.0   2.790229\n",
       "123     5.0   4.143831"
      ]
     },
     "execution_count": 80,
     "metadata": {},
     "output_type": "execute_result"
    }
   ],
   "source": [
    "predictions = model1_score.predict(X_test)\n",
    "\n",
    "df_results1 = pd.DataFrame({'Actual':y_test, 'Predicted':predictions})\n",
    "\n",
    "df_results1.head()"
   ]
  },
  {
   "cell_type": "code",
   "execution_count": 81,
   "id": "ed041847",
   "metadata": {},
   "outputs": [
    {
     "data": {
      "image/png": "[encoded data removed]",
      "text/plain": [
       "<Figure size 360x360 with 1 Axes>"
      ]
     },
     "metadata": {
      "needs_background": "light"
     },
     "output_type": "display_data"
    }
   ],
   "source": [
    "sns.lmplot(x='Actual', y='Predicted', data=df_results1, fit_reg=False)\n",
    "\n",
    "d_line= np.arange(df_results.min().min(), df_results.max().max())\n",
    "plt.plot(d_line, d_line, color='red', linestyle='--')\n",
    "plt.show()"
   ]
  },
  {
   "cell_type": "code",
   "execution_count": 82,
   "id": "5a9c2420",
   "metadata": {},
   "outputs": [
    {
     "name": "stdout",
     "output_type": "stream",
     "text": [
      "3.534133675229839 -0.36500570695715506\n"
     ]
    }
   ],
   "source": [
    "RMSE = np.sqrt(mean_squared_error(y_test, predictions))\n",
    "r2 = r2_score(y_test, predictions)\n",
    "print(RMSE, r2)"
   ]
  },
  {
   "cell_type": "code",
   "execution_count": 83,
   "id": "fb0e42d3",
   "metadata": {},
   "outputs": [
    {
     "name": "stdout",
     "output_type": "stream",
     "text": [
      "\n",
      " [1.56000000e+02 1.19000000e+02 1.32000000e+02 8.40000000e+01\n",
      " 1.07000000e+02 8.60000000e+01 6.60000000e+01 9.50000000e+01\n",
      " 9.40000000e+01 1.55000000e+02 1.25000000e+02 8.80000000e+01\n",
      " 1.48000000e+02 1.03000000e+02 1.20000000e+02 9.90000000e+01\n",
      " 1.18000000e+02 7.90000000e+01 1.69000000e+02 1.36000000e+02\n",
      " 1.01000000e+02 1.26000000e+02 1.83000000e+02 1.42000000e+02\n",
      " 7.50000000e+01 8.90000000e+01 1.40000000e+02 1.61000000e+02\n",
      " 8.00000000e+01 1.30000000e+02 1.47000000e+02 7.70000000e+01\n",
      " 1.15000000e+02 1.57000000e+02 9.00000000e+01 1.28000000e+02\n",
      " 9.60000000e+01 9.10000000e+01 5.50000000e+01 8.50000000e+01\n",
      " 1.60000000e+02 1.08000000e+02 1.70000000e+02 1.74000000e+02\n",
      " 1.27000000e+02 1.65000000e+02 1.13000000e+02 1.67000000e+02\n",
      " 1.10000000e+02 1.50000000e+02 9.30000000e+01 1.09000000e+02\n",
      " 1.75000000e+02 1.62000000e+02 1.89000000e+02 1.21000000e+02\n",
      " 2.00000000e+02 1.05000000e+02 1.93000000e+02 1.49000000e+02\n",
      " 1.34000000e+02 1.00000000e+02 9.80000000e+01 7.80000000e+01\n",
      " 1.17000000e+02 1.22000000e+02 1.79000000e+02 1.66000000e+02\n",
      " 1.44000000e+02 6.10000000e+01 1.85000000e+02 9.20000000e+01\n",
      " 1.94000000e+02 6.00000000e+01 1.90000000e+02 8.70000000e+01\n",
      " 1.71000000e+02 1.14000000e+02 1.41000000e+02 1.46000000e+02\n",
      " 1.64000000e+02 1.45000000e+02 1.12000000e+02 1.11000000e+02\n",
      " 1.72000000e+02 1.80000000e+02 7.60000000e+01 1.29000000e+02\n",
      " 8.10000000e+01 5.20000000e+01 9.70000000e+01 1.43000000e+02\n",
      " 1.58000000e+02 1.04000000e+02 1.35000000e+02 2.20000000e+02\n",
      " 1.38000000e+02 1.39000000e+02 1.78000000e+02 6.20000000e+01\n",
      " 7.20000000e+01 0.00000000e+00 2.08000000e+02 2.00000000e+01\n",
      " 1.24000000e+02 1.81000000e+02 1.06000000e+02 1.91000000e+02\n",
      " 4.00000000e+01 1.73000000e+02 1.23000000e+02 4.00000000e+00\n",
      " 7.30000000e+01 1.37000000e+02 1.33000000e+02 1.02000000e+02\n",
      " 8.20000000e+01 1.16000000e+02 1.31000000e+02 2.04000000e+02\n",
      " 1.59000000e+02 7.00000000e+01 2.10000000e+02 8.00000000e+00\n",
      " 9.99999999e+08 1.53000000e+02 1.92000000e+02 5.60000000e+01\n",
      " 6.30000000e+01 6.80000000e+01 6.24000000e+02 2.18000000e+02\n",
      " 1.86000000e+02 1.63000000e+02 1.68000000e+02]\n"
     ]
    }
   ],
   "source": [
    "df_cluster1= df[[\"BPM\",\"Depression\",\"Age\"]]\n",
    "print(\"\\n\",df_cluster1[\"BPM\"].unique())"
   ]
  },
  {
   "cell_type": "code",
   "execution_count": 84,
   "id": "1255ae3e",
   "metadata": {},
   "outputs": [
    {
     "data": {
      "image/png": "[encoded data removed]",
      "text/plain": [
       "<Figure size 648x432 with 1 Axes>"
      ]
     },
     "metadata": {
      "needs_background": "light"
     },
     "output_type": "display_data"
    }
   ],
   "source": [
    "from mpl_toolkits.mplot3d import Axes3D\n",
    "fig = plt.figure(1, figsize=(9, 6))\n",
    "\n",
    "ax = Axes3D(fig, auto_add_to_figure=False, rect=[0, 0, .95, 1], elev=25, azim=-115) # change parameters here for looking from a different perspective\n",
    "ax.scatter(df_cluster1['Depression'], df_cluster1['BPM'], df_cluster1['Age'], alpha=0.1)\n",
    "fig.add_axes(ax)\n",
    "plt.show()"
   ]
  },
  {
   "cell_type": "code",
   "execution_count": null,
   "id": "71633ce3",
   "metadata": {},
   "outputs": [],
   "source": [
    "df_kM = df[[\"Fav genre\",\"BPM\",\"Hours per day\"]]\n",
    "\n",
    "df_kM = df_kM.groupby(\"Fav genre\")[\"BPM\",\"Hours per day\"].mean()\n",
    "df_kM = df_kM.reset_index()\n",
    "\n",
    "#df_kM = df_kM.astype({\"BPM\": int})\n",
    "\n",
    "df_kM = df_kM.iloc[:-1 , :]\n",
    "\n",
    "print(df_kM)"
   ]
  }
 ],
 "metadata": {
  "kernelspec": {
   "display_name": "Python 3 (ipykernel)",
   "language": "python",
   "name": "python3"
  },
  "language_info": {
   "codemirror_mode": {
    "name": "ipython",
    "version": 3
   },
   "file_extension": ".py",
   "mimetype": "text/x-python",
   "name": "python",
   "nbconvert_exporter": "python",
   "pygments_lexer": "ipython3",
   "version": "3.9.12"
  }
 },
 "nbformat": 4,
 "nbformat_minor": 5
}
